{
  "nbformat": 4,
  "nbformat_minor": 0,
  "metadata": {
    "colab": {
      "name": "Algoritimo_Genetico.ipynb",
      "provenance": [],
      "authorship_tag": "ABX9TyONf2hgBX9VmZEnGhVkwxSH",
      "include_colab_link": true
    },
    "kernelspec": {
      "name": "python3",
      "display_name": "Python 3"
    },
    "language_info": {
      "name": "python"
    }
  },
  "cells": [
    {
      "cell_type": "markdown",
      "metadata": {
        "id": "view-in-github",
        "colab_type": "text"
      },
      "source": [
        "<a href=\"https://colab.research.google.com/github/Thiago-Reis-Porto/treinamento-h2ia/blob/main/Algoritimo_Genetico.ipynb\" target=\"_parent\"><img src=\"https://colab.research.google.com/assets/colab-badge.svg\" alt=\"Open In Colab\"/></a>"
      ]
    },
    {
      "cell_type": "markdown",
      "metadata": {
        "id": "UReIfSiJDFJB"
      },
      "source": [
        "# <h1><center><b>Problema da mochila</h1><h1><center>![mochila tabela.png](data:image/png;base64,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)"
      ]
    },
    {
      "cell_type": "code",
      "metadata": {
        "id": "UwVTXib8BX_-"
      },
      "source": [
        "import random"
      ],
      "execution_count": null,
      "outputs": []
    },
    {
      "cell_type": "code",
      "metadata": {
        "id": "x17GvavJBvRd"
      },
      "source": [
        "weight_capacity = 275\n",
        "wv_i = [(63,13), (21,2), (2,20), (32,10), (13, 7), (80,14), (19,7), (37,2), (56,2), (41,4), (14,16), (8, 17), (32,17), (42,3), (7,21)]"
      ],
      "execution_count": null,
      "outputs": []
    },
    {
      "cell_type": "code",
      "metadata": {
        "colab": {
          "base_uri": "https://localhost:8080/"
        },
        "id": "80lzZhbpHkhp",
        "outputId": "12bfa943-cc70-4f4d-fca0-a33a3f374766"
      },
      "source": [
        "print_solution(genetic_knapsack(100,0.03,100,2))"
      ],
      "execution_count": null,
      "outputs": [
        {
          "output_type": "stream",
          "text": [
            "Tamanho da População:  100\n",
            "Probalidade de Mutação:  0.03\n",
            "Número de gerações:  100\n",
            "Elitismo:  2\n",
            "Melhor Solução: \n",
            "-Codificação: 0b101110011110101 \n",
            "-Items: [1, 3, 5, 6, 7, 8, 11, 12, 13, 15] \n",
            "-Peso: 275 \n",
            "-Valor: 134\n"
          ],
          "name": "stdout"
        }
      ]
    },
    {
      "cell_type": "code",
      "metadata": {
        "id": "6Svkmh2cEImH"
      },
      "source": [
        "#Gera Soluções Aleatorias\n",
        "def generate_population(pop_size):\n",
        "  pop_sample = random.sample(range(32767), pop_size)\n",
        "  population = []\n",
        "  for i in pop_sample:\n",
        "    individual = (solution_fitness(i), i)\n",
        "    insert_individual(individual, population)\n",
        "  return population"
      ],
      "execution_count": null,
      "outputs": []
    },
    {
      "cell_type": "code",
      "metadata": {
        "id": "yc6iF4mg_wZ2"
      },
      "source": [
        "def insert_individual(new_indiv, population):\n",
        "    i = 0\n",
        "    while i < len(population):\n",
        "      if population[i][0] < new_indiv[0]:\n",
        "        break\n",
        "      i+=1\n",
        "    population.insert(i, new_indiv)"
      ],
      "execution_count": null,
      "outputs": []
    },
    {
      "cell_type": "code",
      "metadata": {
        "id": "BZMAXsm7NW10"
      },
      "source": [
        "#Decodifica Solução e retorna seu peso e valor\n",
        "def decode_solution(solution):\n",
        "  weight = 0\n",
        "  value = 0\n",
        "  for i in range(15):\n",
        "    bit = (solution >> i) & 1\n",
        "    if bit:\n",
        "      weight += wv_i[i][0]\n",
        "      value += wv_i[i][1]\n",
        "  return weight, value"
      ],
      "execution_count": null,
      "outputs": []
    },
    {
      "cell_type": "code",
      "metadata": {
        "id": "LXyW59HkQ3s3"
      },
      "source": [
        "#Pega o fitness da solução, é zero se ultrapassar o limite de peso da mochila senão é o peso\n",
        "def solution_fitness(solution):\n",
        "  weight, value = decode_solution(solution)\n",
        "  if weight > weight_capacity:\n",
        "    return 0\n",
        "  else: return value"
      ],
      "execution_count": null,
      "outputs": []
    },
    {
      "cell_type": "code",
      "metadata": {
        "id": "anRHqFLUQ4Cb"
      },
      "source": [
        "#Muta um bit da solução\n",
        "def mutate(solution): \n",
        "  index = random.randrange(15)\n",
        "  mutated_solution = solution[1] ^ 1 << index\n",
        "  mutated_fitness = solution_fitness(mutated_solution)\n",
        "  return mutated_fitness, mutated_solution"
      ],
      "execution_count": null,
      "outputs": []
    },
    {
      "cell_type": "code",
      "metadata": {
        "id": "g-pBAbqCo87P"
      },
      "source": [
        "#Cruzamento retorna dois filhos a partir de dois genomas\n",
        "def crossover(parent_1, parent_2):\n",
        "  cuts = [4,8,12]\n",
        "  cut_1 = random.choice(cuts)\n",
        "  cut_2 = 15-cut_1\n",
        "\n",
        "  parent_1_cuts = parent_1[1]&(32767 >> cut_2), parent_1[1] >> cut_1\n",
        "  parent_2_cuts = parent_2[1]&(32767 >> cut_2), parent_2[1] >> cut_1\n",
        "\n",
        "  child_1 = parent_1_cuts[0] | (parent_2_cuts[1] << cut_1)\n",
        "  child_2 = parent_2_cuts[0] | (parent_1_cuts[1] << cut_1)\n",
        "  \n",
        "  return [(solution_fitness(child_1), child_1), (solution_fitness(child_2), child_2)]"
      ],
      "execution_count": null,
      "outputs": []
    },
    {
      "cell_type": "code",
      "metadata": {
        "id": "0VSg_8E9GROH"
      },
      "source": [
        "#Seleciona dois pais\n",
        "def parent_selection(population):\n",
        "  soma = 0\n",
        "  for i in population:\n",
        "    soma += i[0]\n",
        "  p1 = 0\n",
        "  p2 = 0\n",
        "  while p1 == p2:\n",
        "    s1 = random.randrange(soma+1)\n",
        "    s2 = random.randrange(soma+1)\n",
        "    aux1 = population[p1][0]\n",
        "    aux2 = population[p2][0]\n",
        "  \n",
        "    while aux1 < s1 or aux2 < s2:\n",
        "\n",
        "      if aux1 < s1:\n",
        "        p1 += 1\n",
        "        aux1 += population[p1][0]\n",
        "\n",
        "      if aux2 < s2:\n",
        "        p2 += 1\n",
        "        aux2 += population[p2][0]\n",
        "      if p1 == p2: p1 = p2 =0\n",
        "  return p1, p2"
      ],
      "execution_count": null,
      "outputs": []
    },
    {
      "cell_type": "code",
      "metadata": {
        "id": "ukdHAKUoGYqy"
      },
      "source": [
        "#Roleta para mutação \n",
        "def mutate_bool(mutation_prob):\n",
        "  m = random.uniform(0, 1)\n",
        "  if m < mutation_prob:\n",
        "    return True\n",
        "  return False"
      ],
      "execution_count": null,
      "outputs": []
    },
    {
      "cell_type": "code",
      "metadata": {
        "id": "5YqU0qVL2kbe"
      },
      "source": [
        "def genetic_knapsack(pop_size=10, mutation_prob=0.05, n_generatios=5, n_elitism=1):\n",
        "  population = generate_population(pop_size)\n",
        "  offspring = []\n",
        "  \n",
        "  if pop_size < 1 | n_generatios < 1 | n_elitism > pop_size:\n",
        "    return\n",
        "\n",
        "  for i in range(n_generatios):\n",
        "    p1, p2 = parent_selection(population)\n",
        "    children = crossover(population[p1],population[p1])\n",
        "    \n",
        "    for j in range(n_elitism):\n",
        "      insert_individual(population[j], offspring)\n",
        "\n",
        "    if len(offspring) >= pop_size:\n",
        "      population = offspring\n",
        "      break\n",
        "\n",
        "    for j in children:\n",
        "      if mutate_bool(mutation_prob):\n",
        "        j = mutate(j)\n",
        "      insert_individual(j, offspring)\n",
        "      \n",
        "      population = offspring\n",
        "\n",
        "  return pop_size, mutation_prob, n_generatios, n_elitism, population[0]"
      ],
      "execution_count": null,
      "outputs": []
    },
    {
      "cell_type": "code",
      "metadata": {
        "id": "zj4bovB8GiEq"
      },
      "source": [
        "def print_solution(result):\n",
        "  pop_size, mutation_prob, n_generatios, n_elitism, solution = result\n",
        "  print(\"Tamanho da População: \", pop_size)\n",
        "  print(\"Probalidade de Mutação: \", mutation_prob)\n",
        "  print(\"Número de gerações: \", n_generatios)\n",
        "  print(\"Elitismo: \", n_elitism)\n",
        "  weight, value = decode_solution(solution[1])\n",
        "  items = []\n",
        "  for i in range(15):\n",
        "    bit = (solution[1] >> i) & 1\n",
        "    if bit:\n",
        "      items.append(i+1)\n",
        "  print(\"Melhor Solução: \\n-Codificação:\",bin(solution[1]),\"\\n-Items:\",items,  \"\\n-Peso:\",weight, \"\\n-Valor:\", value)"
      ],
      "execution_count": null,
      "outputs": []
    }
  ]
}