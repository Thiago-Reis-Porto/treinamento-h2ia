{
  "nbformat": 4,
  "nbformat_minor": 0,
  "metadata": {
    "colab": {
      "name": "Busca Tabu.ipynb",
      "provenance": [],
      "authorship_tag": "ABX9TyMCThj8NgC+Fkj8IqvHnual",
      "include_colab_link": true
    },
    "kernelspec": {
      "name": "python3",
      "display_name": "Python 3"
    },
    "language_info": {
      "name": "python"
    }
  },
  "cells": [
    {
      "cell_type": "markdown",
      "metadata": {
        "id": "view-in-github",
        "colab_type": "text"
      },
      "source": [
        "<a href=\"https://colab.research.google.com/github/Thiago-Reis-Porto/treinamento-h2ia/blob/main/Busca_Tabu.ipynb\" target=\"_parent\"><img src=\"https://colab.research.google.com/assets/colab-badge.svg\" alt=\"Open In Colab\"/></a>"
      ]
    },
    {
      "cell_type": "markdown",
      "metadata": {
        "id": "9mb4M7wPtmZZ"
      },
      "source": [
        "# <h1><center><b>Problema da mochila</h1><h1><center>![mochila tabela.png](data:image/png;base64,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)"
      ]
    },
    {
      "cell_type": "code",
      "metadata": {
        "id": "tF4p1bYarNNu"
      },
      "source": [
        "import numpy as np"
      ],
      "execution_count": 4,
      "outputs": []
    },
    {
      "cell_type": "code",
      "metadata": {
        "colab": {
          "base_uri": "https://localhost:8080/"
        },
        "id": "644aNowl06aB",
        "outputId": "ca835884-a240-4e86-c051-ee0e999e5eb3"
      },
      "source": [
        "mochila = Knapsack([])\n",
        "tabu_search(mochila, 3, 5)\n",
        "print(\"Itens na mochila:\",mochila.best_inside)\n",
        "print(\"Peso Total:\",mochila.best_weight)\n",
        "print(\"Valor Total:\",mochila.best_value)"
      ],
      "execution_count": 93,
      "outputs": [
        {
          "output_type": "stream",
          "text": [
            "Itens na mochila: [1, 2, 3, 4, 5, 6, 7, 8, 15]\n",
            "Peso Total: 274\n",
            "Valor Total: 96\n"
          ],
          "name": "stdout"
        }
      ]
    },
    {
      "cell_type": "code",
      "metadata": {
        "id": "DIIndC77tJPE"
      },
      "source": [
        "#---------------------------------------------------------------------------------------------------------\n",
        "#--Classe mochila ----------------------------------------------------------------------------------------\n",
        "#---------------------------------------------------------------------------------------------------------\n",
        "weight_capacity = 275\n",
        "wv_i = [(63,13), (21,2), (2,20), (32,10), (13, 7), (80,14), (19,7), (37,2), (56,2), (41,4), (14,16), (8, 17), (32,17), (42,3), (7,21)]\n",
        "\n",
        "class Knapsack:\n",
        "  \n",
        "  def __init__(self, state = []):\n",
        "    self.state = state\n",
        "    self.weight = sum(i for i,_ in self.state)\n",
        "    self.value = sum(i for _,i in self.state)\n",
        "    self.inside = [i for i in range(len(wv_i)) if wv_i[i] in state] \n",
        "    self.best = state\n",
        "    self.best_value = self.value\n",
        "    self.best_weight = self.weight\n",
        "    self.best_last_change = 0\n",
        "    self.best_inside = self.inside\n",
        "\n",
        "  def swap(self, index_i, index_j):\n",
        "    self.state[:] = [wv_i[index_j] if x== wv_i[index_i] else x for x in self.state]\n",
        "    self.value -= wv_i[index_i][1]\n",
        "    self.value += wv_i[index_j][1]\n",
        "    self.weight -= wv_i[index_i][0]\n",
        "    self.weight += wv_i[index_j][0]\n",
        "    self.inside.remove(index_i)\n",
        "    self.inside.append(index_j)\n",
        "\n",
        "  def push(self, index):\n",
        "    self.state.append(wv_i[index])\n",
        "    self.value += wv_i[index][1]\n",
        "    self.weight += wv_i[index][0]\n",
        "    self.inside.append(index)\n",
        "  "
      ],
      "execution_count": 68,
      "outputs": []
    },
    {
      "cell_type": "code",
      "metadata": {
        "id": "NxkgXGJvywhe"
      },
      "source": [
        "#Inicializa Tabela Tabu\n",
        "tabu = np.zeros((len(wv_i)+1, len(wv_i)+1))"
      ],
      "execution_count": 91,
      "outputs": []
    },
    {
      "cell_type": "code",
      "metadata": {
        "id": "qTN8JXhM3hFa"
      },
      "source": [
        "#Busca Tabu\n",
        "def tabu_search(knapsack, aspiration, interations):\n",
        "  while knapsack.best_last_change <= interations:\n",
        "    n = get_neighbors(knapsack)\n",
        "    bf = best_five(n)\n",
        "    if not bf: return\n",
        "    s = get_solution(bf, knapsack)\n",
        "    update_tabu(aspiration, s)\n",
        "    update_state(knapsack, s)\n"
      ],
      "execution_count": 92,
      "outputs": []
    },
    {
      "cell_type": "code",
      "metadata": {
        "id": "IEZDa5DTDDUI"
      },
      "source": [
        "#Define as soluções vizinhas\n",
        "def get_neighbors(knapsack):\n",
        "  n = []\n",
        "  dont_check = knapsack.inside.copy()\n",
        "  #Troca\n",
        "  for i in knapsack.inside:\n",
        "    for j in range(len(wv_i)):\n",
        "      if not is_in (dont_check, j):\n",
        "        new_weight = knapsack.weight + wv_i[j][0] \n",
        "        if (new_weight <= weight_capacity):\n",
        "          n.append((i+1, j+1, wv_i[i][1]))\n",
        "\n",
        "  #Adiciona Item\n",
        "  for i in range(len(wv_i)):\n",
        "    new_weight = knapsack.weight + wv_i[i][0] \n",
        "    if (new_weight <= weight_capacity and not is_in(knapsack.inside, i)):\n",
        "      n.append((0, i+1, wv_i[i][1]))\n",
        "  return n"
      ],
      "execution_count": 78,
      "outputs": []
    },
    {
      "cell_type": "code",
      "metadata": {
        "id": "-LRcnViXC-_R"
      },
      "source": [
        "def is_in(a, elt):\n",
        "  for i in a:\n",
        "    if i == elt:\n",
        "      return True\n",
        "  return False"
      ],
      "execution_count": 77,
      "outputs": []
    },
    {
      "cell_type": "code",
      "metadata": {
        "id": "S0cfVCnaC85x"
      },
      "source": [
        "#Seleciona as 5 melhores soluções\n",
        "def best_five(neighbors):\n",
        "  \n",
        "  bf = []\n",
        "  \n",
        "  for n in neighbors:\n",
        "      i=0\n",
        "  \n",
        "      while i < len(bf):\n",
        "        if n[2] > bf[i][2]:\n",
        "          bf.insert(i,n)\n",
        "          break\n",
        "        i+=1\n",
        "  \n",
        "      if i == len(bf):\n",
        "          bf.append(n)\n",
        "  \n",
        "      if len(bf) > 5:\n",
        "        bf.pop()\n",
        "  \n",
        "  return bf"
      ],
      "execution_count": 76,
      "outputs": []
    },
    {
      "cell_type": "code",
      "metadata": {
        "id": "Zs23w3X0Gfz2"
      },
      "source": [
        "#Seleciona proxima solução\n",
        "def get_solution(best_solutions, knapsack):\n",
        "  \n",
        "  for solution in best_solutions:\n",
        "    \n",
        "    if solution[2] > knapsack.value:\n",
        "      return solution\n",
        "    \n",
        "    if tabu[solution[0]-1][solution[1]-1]:\n",
        "      if solution == best_solutions[-1]:\n",
        "        return best_solutions[0]\n",
        "      continue\n",
        "    \n",
        "    return solution"
      ],
      "execution_count": 75,
      "outputs": []
    },
    {
      "cell_type": "code",
      "metadata": {
        "id": "j2q2-yW3GFF0"
      },
      "source": [
        "#Atualiza tabela tabu\n",
        "def update_tabu(aspiration, new_solution):\n",
        "\n",
        "  for i in range(len(tabu)):\n",
        "    for j in range(len(tabu)):\n",
        "      if tabu[i][j]: tabu[i][j] -= 1 \n",
        "  if new_solution[0]:\n",
        "    tabu[new_solution[0]-1][new_solution[1]-1] = aspiration\n",
        "    tabu[new_solution[1]-1][new_solution[0]-1] += 1\n",
        "  else:\n",
        "    tabu[new_solution[0]][new_solution[1]-1] = aspiration\n",
        "    tabu[new_solution[1]-1][new_solution[0]-1] += 1"
      ],
      "execution_count": 82,
      "outputs": []
    },
    {
      "cell_type": "code",
      "metadata": {
        "id": "NzgkjTkeNU2e"
      },
      "source": [
        "#Atualiza mochila\n",
        "def update_state(knapsack, new_solution):\n",
        "  \n",
        "  if new_solution[0]:\n",
        "    knapsack.swap(new_solution[0]-1, new_solution[1]-1)\n",
        "  else:\n",
        "    knapsack.push(new_solution[1]-1)\n",
        "    \n",
        "  if knapsack.value > knapsack.best_value:\n",
        "     knapsack.best = knapsack.state\n",
        "     knapsack.best_value = knapsack.value\n",
        "     knapsack.best_weight = knapsack.weight\n",
        "     knapsack.best_last_change = 0\n",
        "     knapsack.best_inside = [i+1 for i in knapsack.inside]\n",
        "  else: knapsack.best_last_change += 1"
      ],
      "execution_count": 83,
      "outputs": []
    }
  ]
}