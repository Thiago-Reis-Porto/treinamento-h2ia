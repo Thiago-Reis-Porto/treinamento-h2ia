{
  "nbformat": 4,
  "nbformat_minor": 0,
  "metadata": {
    "colab": {
      "name": "ID3.ipynb",
      "provenance": [],
      "collapsed_sections": [],
      "include_colab_link": true
    },
    "kernelspec": {
      "name": "python3",
      "display_name": "Python 3"
    }
  },
  "cells": [
    {
      "cell_type": "markdown",
      "metadata": {
        "id": "view-in-github",
        "colab_type": "text"
      },
      "source": [
        "<a href=\"https://colab.research.google.com/github/Thiago-Reis-Porto/treinamento-h2ia/blob/main/ID3.ipynb\" target=\"_parent\"><img src=\"https://colab.research.google.com/assets/colab-badge.svg\" alt=\"Open In Colab\"/></a>"
      ]
    },
    {
      "cell_type": "code",
      "metadata": {
        "id": "L161UzwpZmz2"
      },
      "source": [
        "from sklearn.datasets import load_iris\n",
        "from sklearn.datasets import load_wine\n",
        "from sklearn.model_selection import train_test_split\n",
        "from sklearn.model_selection import ShuffleSplit\n",
        "from sklearn.model_selection import KFold\n",
        "import numpy as np\n",
        "import pandas as pd"
      ],
      "execution_count": 1,
      "outputs": []
    },
    {
      "cell_type": "markdown",
      "metadata": {
        "id": "APAbZEhg7j0I"
      },
      "source": [
        "Load the wine data"
      ]
    },
    {
      "cell_type": "code",
      "metadata": {
        "id": "x7M_-msh5hFS"
      },
      "source": [
        "wine = load_wine()\n",
        "data = pd.DataFrame(wine.data)\n",
        "data.columns = wine.feature_names\n",
        "target = pd.DataFrame(wine.target,columns=[\"target\"])\n",
        "data.insert(len(data.columns),\"target\",target) "
      ],
      "execution_count": 14,
      "outputs": []
    },
    {
      "cell_type": "code",
      "metadata": {
        "colab": {
          "base_uri": "https://localhost:8080/",
          "height": 439
        },
        "id": "b1hH7-g-5nF2",
        "outputId": "14320399-821b-49e2-8b89-145e2e6a90a5"
      },
      "source": [
        "data"
      ],
      "execution_count": null,
      "outputs": [
        {
          "output_type": "execute_result",
          "data": {
            "text/html": [
              "<div>\n",
              "<style scoped>\n",
              "    .dataframe tbody tr th:only-of-type {\n",
              "        vertical-align: middle;\n",
              "    }\n",
              "\n",
              "    .dataframe tbody tr th {\n",
              "        vertical-align: top;\n",
              "    }\n",
              "\n",
              "    .dataframe thead th {\n",
              "        text-align: right;\n",
              "    }\n",
              "</style>\n",
              "<table border=\"1\" class=\"dataframe\">\n",
              "  <thead>\n",
              "    <tr style=\"text-align: right;\">\n",
              "      <th></th>\n",
              "      <th>alcohol</th>\n",
              "      <th>malic_acid</th>\n",
              "      <th>ash</th>\n",
              "      <th>alcalinity_of_ash</th>\n",
              "      <th>magnesium</th>\n",
              "      <th>total_phenols</th>\n",
              "      <th>flavanoids</th>\n",
              "      <th>nonflavanoid_phenols</th>\n",
              "      <th>proanthocyanins</th>\n",
              "      <th>color_intensity</th>\n",
              "      <th>hue</th>\n",
              "      <th>od280/od315_of_diluted_wines</th>\n",
              "      <th>proline</th>\n",
              "      <th>target</th>\n",
              "    </tr>\n",
              "  </thead>\n",
              "  <tbody>\n",
              "    <tr>\n",
              "      <th>0</th>\n",
              "      <td>14.23</td>\n",
              "      <td>1.71</td>\n",
              "      <td>2.43</td>\n",
              "      <td>15.6</td>\n",
              "      <td>127.0</td>\n",
              "      <td>2.80</td>\n",
              "      <td>3.06</td>\n",
              "      <td>0.28</td>\n",
              "      <td>2.29</td>\n",
              "      <td>5.64</td>\n",
              "      <td>1.04</td>\n",
              "      <td>3.92</td>\n",
              "      <td>1065.0</td>\n",
              "      <td>0</td>\n",
              "    </tr>\n",
              "    <tr>\n",
              "      <th>1</th>\n",
              "      <td>13.20</td>\n",
              "      <td>1.78</td>\n",
              "      <td>2.14</td>\n",
              "      <td>11.2</td>\n",
              "      <td>100.0</td>\n",
              "      <td>2.65</td>\n",
              "      <td>2.76</td>\n",
              "      <td>0.26</td>\n",
              "      <td>1.28</td>\n",
              "      <td>4.38</td>\n",
              "      <td>1.05</td>\n",
              "      <td>3.40</td>\n",
              "      <td>1050.0</td>\n",
              "      <td>0</td>\n",
              "    </tr>\n",
              "    <tr>\n",
              "      <th>2</th>\n",
              "      <td>13.16</td>\n",
              "      <td>2.36</td>\n",
              "      <td>2.67</td>\n",
              "      <td>18.6</td>\n",
              "      <td>101.0</td>\n",
              "      <td>2.80</td>\n",
              "      <td>3.24</td>\n",
              "      <td>0.30</td>\n",
              "      <td>2.81</td>\n",
              "      <td>5.68</td>\n",
              "      <td>1.03</td>\n",
              "      <td>3.17</td>\n",
              "      <td>1185.0</td>\n",
              "      <td>0</td>\n",
              "    </tr>\n",
              "    <tr>\n",
              "      <th>3</th>\n",
              "      <td>14.37</td>\n",
              "      <td>1.95</td>\n",
              "      <td>2.50</td>\n",
              "      <td>16.8</td>\n",
              "      <td>113.0</td>\n",
              "      <td>3.85</td>\n",
              "      <td>3.49</td>\n",
              "      <td>0.24</td>\n",
              "      <td>2.18</td>\n",
              "      <td>7.80</td>\n",
              "      <td>0.86</td>\n",
              "      <td>3.45</td>\n",
              "      <td>1480.0</td>\n",
              "      <td>0</td>\n",
              "    </tr>\n",
              "    <tr>\n",
              "      <th>4</th>\n",
              "      <td>13.24</td>\n",
              "      <td>2.59</td>\n",
              "      <td>2.87</td>\n",
              "      <td>21.0</td>\n",
              "      <td>118.0</td>\n",
              "      <td>2.80</td>\n",
              "      <td>2.69</td>\n",
              "      <td>0.39</td>\n",
              "      <td>1.82</td>\n",
              "      <td>4.32</td>\n",
              "      <td>1.04</td>\n",
              "      <td>2.93</td>\n",
              "      <td>735.0</td>\n",
              "      <td>0</td>\n",
              "    </tr>\n",
              "    <tr>\n",
              "      <th>...</th>\n",
              "      <td>...</td>\n",
              "      <td>...</td>\n",
              "      <td>...</td>\n",
              "      <td>...</td>\n",
              "      <td>...</td>\n",
              "      <td>...</td>\n",
              "      <td>...</td>\n",
              "      <td>...</td>\n",
              "      <td>...</td>\n",
              "      <td>...</td>\n",
              "      <td>...</td>\n",
              "      <td>...</td>\n",
              "      <td>...</td>\n",
              "      <td>...</td>\n",
              "    </tr>\n",
              "    <tr>\n",
              "      <th>173</th>\n",
              "      <td>13.71</td>\n",
              "      <td>5.65</td>\n",
              "      <td>2.45</td>\n",
              "      <td>20.5</td>\n",
              "      <td>95.0</td>\n",
              "      <td>1.68</td>\n",
              "      <td>0.61</td>\n",
              "      <td>0.52</td>\n",
              "      <td>1.06</td>\n",
              "      <td>7.70</td>\n",
              "      <td>0.64</td>\n",
              "      <td>1.74</td>\n",
              "      <td>740.0</td>\n",
              "      <td>2</td>\n",
              "    </tr>\n",
              "    <tr>\n",
              "      <th>174</th>\n",
              "      <td>13.40</td>\n",
              "      <td>3.91</td>\n",
              "      <td>2.48</td>\n",
              "      <td>23.0</td>\n",
              "      <td>102.0</td>\n",
              "      <td>1.80</td>\n",
              "      <td>0.75</td>\n",
              "      <td>0.43</td>\n",
              "      <td>1.41</td>\n",
              "      <td>7.30</td>\n",
              "      <td>0.70</td>\n",
              "      <td>1.56</td>\n",
              "      <td>750.0</td>\n",
              "      <td>2</td>\n",
              "    </tr>\n",
              "    <tr>\n",
              "      <th>175</th>\n",
              "      <td>13.27</td>\n",
              "      <td>4.28</td>\n",
              "      <td>2.26</td>\n",
              "      <td>20.0</td>\n",
              "      <td>120.0</td>\n",
              "      <td>1.59</td>\n",
              "      <td>0.69</td>\n",
              "      <td>0.43</td>\n",
              "      <td>1.35</td>\n",
              "      <td>10.20</td>\n",
              "      <td>0.59</td>\n",
              "      <td>1.56</td>\n",
              "      <td>835.0</td>\n",
              "      <td>2</td>\n",
              "    </tr>\n",
              "    <tr>\n",
              "      <th>176</th>\n",
              "      <td>13.17</td>\n",
              "      <td>2.59</td>\n",
              "      <td>2.37</td>\n",
              "      <td>20.0</td>\n",
              "      <td>120.0</td>\n",
              "      <td>1.65</td>\n",
              "      <td>0.68</td>\n",
              "      <td>0.53</td>\n",
              "      <td>1.46</td>\n",
              "      <td>9.30</td>\n",
              "      <td>0.60</td>\n",
              "      <td>1.62</td>\n",
              "      <td>840.0</td>\n",
              "      <td>2</td>\n",
              "    </tr>\n",
              "    <tr>\n",
              "      <th>177</th>\n",
              "      <td>14.13</td>\n",
              "      <td>4.10</td>\n",
              "      <td>2.74</td>\n",
              "      <td>24.5</td>\n",
              "      <td>96.0</td>\n",
              "      <td>2.05</td>\n",
              "      <td>0.76</td>\n",
              "      <td>0.56</td>\n",
              "      <td>1.35</td>\n",
              "      <td>9.20</td>\n",
              "      <td>0.61</td>\n",
              "      <td>1.60</td>\n",
              "      <td>560.0</td>\n",
              "      <td>2</td>\n",
              "    </tr>\n",
              "  </tbody>\n",
              "</table>\n",
              "<p>178 rows × 14 columns</p>\n",
              "</div>"
            ],
            "text/plain": [
              "     alcohol  malic_acid   ash  ...  od280/od315_of_diluted_wines  proline  target\n",
              "0      14.23        1.71  2.43  ...                          3.92   1065.0       0\n",
              "1      13.20        1.78  2.14  ...                          3.40   1050.0       0\n",
              "2      13.16        2.36  2.67  ...                          3.17   1185.0       0\n",
              "3      14.37        1.95  2.50  ...                          3.45   1480.0       0\n",
              "4      13.24        2.59  2.87  ...                          2.93    735.0       0\n",
              "..       ...         ...   ...  ...                           ...      ...     ...\n",
              "173    13.71        5.65  2.45  ...                          1.74    740.0       2\n",
              "174    13.40        3.91  2.48  ...                          1.56    750.0       2\n",
              "175    13.27        4.28  2.26  ...                          1.56    835.0       2\n",
              "176    13.17        2.59  2.37  ...                          1.62    840.0       2\n",
              "177    14.13        4.10  2.74  ...                          1.60    560.0       2\n",
              "\n",
              "[178 rows x 14 columns]"
            ]
          },
          "metadata": {},
          "execution_count": 16
        }
      ]
    },
    {
      "cell_type": "markdown",
      "metadata": {
        "id": "w-xYsOGV7vP_"
      },
      "source": [
        "Split the data"
      ]
    },
    {
      "cell_type": "code",
      "metadata": {
        "colab": {
          "base_uri": "https://localhost:8080/"
        },
        "id": "YaDzJmPM7vAv",
        "outputId": "d916ca79-5df3-4bf8-d167-dd2cb23053d0"
      },
      "source": [
        "train, test = train_test_split(data, test_size=0.3)\n",
        "train.reset_index(inplace=True, drop=True); test.reset_index(inplace=True, drop=True)  \n",
        "len(train), len(test)"
      ],
      "execution_count": 15,
      "outputs": [
        {
          "output_type": "execute_result",
          "data": {
            "text/plain": [
              "(124, 54)"
            ]
          },
          "metadata": {},
          "execution_count": 15
        }
      ]
    },
    {
      "cell_type": "markdown",
      "metadata": {
        "id": "9l35qGY9JtCb"
      },
      "source": [
        "Train and show tree in preorder"
      ]
    },
    {
      "cell_type": "code",
      "metadata": {
        "colab": {
          "base_uri": "https://localhost:8080/"
        },
        "id": "nsrjktSj8PoV",
        "outputId": "c0b698fe-5262-4b74-e5d7-38068e24d7c2"
      },
      "source": [
        "model = ID3()\n",
        "model.fit(train)\n",
        "print(\"Preorder:\\n\")\n",
        "model.print_tree(model.root, wine.target_names)"
      ],
      "execution_count": 16,
      "outputs": [
        {
          "output_type": "stream",
          "name": "stdout",
          "text": [
            "Preorder:\n",
            "\n",
            "proline : left <=  755  right >  755\n",
            "color_intensity : left <=  3.83  right >  3.83\n",
            "class_1\n",
            "flavanoids : left <=  1.69  right >  1.69\n",
            "class_2\n",
            "class_1\n",
            "flavanoids : left <=  2.25  right >  2.25\n",
            "malic_acid : left <=  2.32  right >  2.32\n",
            "class_1\n",
            "class_2\n",
            "magnesium : left <=  134  right >  134\n",
            "class_0\n",
            "class_1\n"
          ]
        }
      ]
    },
    {
      "cell_type": "code",
      "metadata": {
        "colab": {
          "base_uri": "https://localhost:8080/"
        },
        "id": "I3Utc_158mbg",
        "outputId": "b50a7fdd-efdb-4b2a-ff6e-01f20dcbb11a"
      },
      "source": [
        "print(\"Error rate:\")\n",
        "print(\"{0:.0%}\".format(model.validate(test)))"
      ],
      "execution_count": 17,
      "outputs": [
        {
          "output_type": "stream",
          "name": "stdout",
          "text": [
            "Error rate:\n",
            "9%\n"
          ]
        }
      ]
    },
    {
      "cell_type": "code",
      "metadata": {
        "colab": {
          "base_uri": "https://localhost:8080/"
        },
        "id": "0KCfQ_lJCP2H",
        "outputId": "74a7331a-3924-410b-f868-03811dcd78fc"
      },
      "source": [
        "print(\"K-Fold average error rate for k=10:\")\n",
        "k_folds(model, data)"
      ],
      "execution_count": 18,
      "outputs": [
        {
          "output_type": "stream",
          "name": "stdout",
          "text": [
            "K-Fold average error rate for k=10:\n",
            "[0.05555555555555555, 0.1111111111111111, 0.05555555555555555, 0.1111111111111111, 0.05555555555555555, 0.0, 0.05555555555555555, 0.3888888888888889, 0.29411764705882354, 0.0]\n",
            "Average error rate: 11%\n"
          ]
        }
      ]
    },
    {
      "cell_type": "code",
      "metadata": {
        "colab": {
          "base_uri": "https://localhost:8080/"
        },
        "id": "_bce-ZGGCRim",
        "outputId": "673ec362-51bd-4ed1-ecc0-bdddd320b567"
      },
      "source": [
        "print(\"Bootstrap average error rate for 10 splits and 20% test size:\")\n",
        "bootstrap(model, data)"
      ],
      "execution_count": 19,
      "outputs": [
        {
          "output_type": "stream",
          "name": "stdout",
          "text": [
            "Bootstrap average error rate for 10 splits and 20% test size:\n",
            "[0.1111111111111111, 0.1111111111111111, 0.027777777777777776, 0.05555555555555555, 0.05555555555555555, 0.08333333333333333, 0.08333333333333333, 0.1388888888888889, 0.1388888888888889, 0.08333333333333333]\n",
            "Average error rate: 9%\n"
          ]
        }
      ]
    },
    {
      "cell_type": "markdown",
      "metadata": {
        "id": "SJ5fw-HKheOQ"
      },
      "source": [
        "Load iris dataset"
      ]
    },
    {
      "cell_type": "code",
      "metadata": {
        "id": "bfroUjrshi2J"
      },
      "source": [
        "iris = load_iris()\n",
        "data = pd.DataFrame(iris.data)\n",
        "data.columns = iris.feature_names\n",
        "target = pd.DataFrame(iris.target,columns=[\"target\"])\n",
        "data.insert(4,\"target\",target)"
      ],
      "execution_count": 8,
      "outputs": []
    },
    {
      "cell_type": "code",
      "metadata": {
        "colab": {
          "base_uri": "https://localhost:8080/",
          "height": 419
        },
        "id": "Icr8moQxiMWM",
        "outputId": "4f9b0620-fb10-4dcb-92b7-6b9439e95ccc"
      },
      "source": [
        "data"
      ],
      "execution_count": null,
      "outputs": [
        {
          "output_type": "execute_result",
          "data": {
            "text/html": [
              "<div>\n",
              "<style scoped>\n",
              "    .dataframe tbody tr th:only-of-type {\n",
              "        vertical-align: middle;\n",
              "    }\n",
              "\n",
              "    .dataframe tbody tr th {\n",
              "        vertical-align: top;\n",
              "    }\n",
              "\n",
              "    .dataframe thead th {\n",
              "        text-align: right;\n",
              "    }\n",
              "</style>\n",
              "<table border=\"1\" class=\"dataframe\">\n",
              "  <thead>\n",
              "    <tr style=\"text-align: right;\">\n",
              "      <th></th>\n",
              "      <th>sepal length (cm)</th>\n",
              "      <th>sepal width (cm)</th>\n",
              "      <th>petal length (cm)</th>\n",
              "      <th>petal width (cm)</th>\n",
              "      <th>target</th>\n",
              "    </tr>\n",
              "  </thead>\n",
              "  <tbody>\n",
              "    <tr>\n",
              "      <th>0</th>\n",
              "      <td>5.1</td>\n",
              "      <td>3.5</td>\n",
              "      <td>1.4</td>\n",
              "      <td>0.2</td>\n",
              "      <td>0</td>\n",
              "    </tr>\n",
              "    <tr>\n",
              "      <th>1</th>\n",
              "      <td>4.9</td>\n",
              "      <td>3.0</td>\n",
              "      <td>1.4</td>\n",
              "      <td>0.2</td>\n",
              "      <td>0</td>\n",
              "    </tr>\n",
              "    <tr>\n",
              "      <th>2</th>\n",
              "      <td>4.7</td>\n",
              "      <td>3.2</td>\n",
              "      <td>1.3</td>\n",
              "      <td>0.2</td>\n",
              "      <td>0</td>\n",
              "    </tr>\n",
              "    <tr>\n",
              "      <th>3</th>\n",
              "      <td>4.6</td>\n",
              "      <td>3.1</td>\n",
              "      <td>1.5</td>\n",
              "      <td>0.2</td>\n",
              "      <td>0</td>\n",
              "    </tr>\n",
              "    <tr>\n",
              "      <th>4</th>\n",
              "      <td>5.0</td>\n",
              "      <td>3.6</td>\n",
              "      <td>1.4</td>\n",
              "      <td>0.2</td>\n",
              "      <td>0</td>\n",
              "    </tr>\n",
              "    <tr>\n",
              "      <th>...</th>\n",
              "      <td>...</td>\n",
              "      <td>...</td>\n",
              "      <td>...</td>\n",
              "      <td>...</td>\n",
              "      <td>...</td>\n",
              "    </tr>\n",
              "    <tr>\n",
              "      <th>145</th>\n",
              "      <td>6.7</td>\n",
              "      <td>3.0</td>\n",
              "      <td>5.2</td>\n",
              "      <td>2.3</td>\n",
              "      <td>2</td>\n",
              "    </tr>\n",
              "    <tr>\n",
              "      <th>146</th>\n",
              "      <td>6.3</td>\n",
              "      <td>2.5</td>\n",
              "      <td>5.0</td>\n",
              "      <td>1.9</td>\n",
              "      <td>2</td>\n",
              "    </tr>\n",
              "    <tr>\n",
              "      <th>147</th>\n",
              "      <td>6.5</td>\n",
              "      <td>3.0</td>\n",
              "      <td>5.2</td>\n",
              "      <td>2.0</td>\n",
              "      <td>2</td>\n",
              "    </tr>\n",
              "    <tr>\n",
              "      <th>148</th>\n",
              "      <td>6.2</td>\n",
              "      <td>3.4</td>\n",
              "      <td>5.4</td>\n",
              "      <td>2.3</td>\n",
              "      <td>2</td>\n",
              "    </tr>\n",
              "    <tr>\n",
              "      <th>149</th>\n",
              "      <td>5.9</td>\n",
              "      <td>3.0</td>\n",
              "      <td>5.1</td>\n",
              "      <td>1.8</td>\n",
              "      <td>2</td>\n",
              "    </tr>\n",
              "  </tbody>\n",
              "</table>\n",
              "<p>150 rows × 5 columns</p>\n",
              "</div>"
            ],
            "text/plain": [
              "     sepal length (cm)  sepal width (cm)  ...  petal width (cm)  target\n",
              "0                  5.1               3.5  ...               0.2       0\n",
              "1                  4.9               3.0  ...               0.2       0\n",
              "2                  4.7               3.2  ...               0.2       0\n",
              "3                  4.6               3.1  ...               0.2       0\n",
              "4                  5.0               3.6  ...               0.2       0\n",
              "..                 ...               ...  ...               ...     ...\n",
              "145                6.7               3.0  ...               2.3       2\n",
              "146                6.3               2.5  ...               1.9       2\n",
              "147                6.5               3.0  ...               2.0       2\n",
              "148                6.2               3.4  ...               2.3       2\n",
              "149                5.9               3.0  ...               1.8       2\n",
              "\n",
              "[150 rows x 5 columns]"
            ]
          },
          "metadata": {},
          "execution_count": 47
        }
      ]
    },
    {
      "cell_type": "code",
      "metadata": {
        "colab": {
          "base_uri": "https://localhost:8080/"
        },
        "id": "-l7Cgd71Wydl",
        "outputId": "a019acb3-13d2-48b9-bd30-8af6ab474fd0"
      },
      "source": [
        "train, test = train_test_split(data, test_size=0.3)\n",
        "train.reset_index(inplace=True, drop=True); test.reset_index(inplace=True, drop=True)  \n",
        "len(train), len(test)"
      ],
      "execution_count": 9,
      "outputs": [
        {
          "output_type": "execute_result",
          "data": {
            "text/plain": [
              "(105, 45)"
            ]
          },
          "metadata": {},
          "execution_count": 9
        }
      ]
    },
    {
      "cell_type": "code",
      "metadata": {
        "colab": {
          "base_uri": "https://localhost:8080/"
        },
        "id": "x0QXD9lb_vOa",
        "outputId": "1a23fd2d-54dd-417e-edc6-d8610bf57cec"
      },
      "source": [
        "model = ID3()\n",
        "model.fit(train)\n",
        "print(\"Preorder:\\n\")\n",
        "model.print_tree(model.root, iris.target_names)"
      ],
      "execution_count": 10,
      "outputs": [
        {
          "output_type": "stream",
          "name": "stdout",
          "text": [
            "Preorder:\n",
            "\n",
            "petal length (cm) : left <=  2.45  right >  2.45\n",
            "setosa\n",
            "sepal length (cm) : left <=  5.75  right >  5.75\n",
            "petal width (cm) : left <=  1.5  right >  1.5\n",
            "versicolor\n",
            "virginica\n",
            "petal width (cm) : left <=  1.75  right >  1.75\n",
            "versicolor\n",
            "virginica\n"
          ]
        }
      ]
    },
    {
      "cell_type": "code",
      "metadata": {
        "colab": {
          "base_uri": "https://localhost:8080/"
        },
        "id": "Lu8C-WByg-br",
        "outputId": "c3cde344-ed1d-4baa-9664-9b0a17f55610"
      },
      "source": [
        "print(\"Error rate:\")\n",
        "print(\"{0:.0%}\".format(model.validate(test)))"
      ],
      "execution_count": 11,
      "outputs": [
        {
          "output_type": "stream",
          "name": "stdout",
          "text": [
            "Error rate:\n",
            "2%\n"
          ]
        }
      ]
    },
    {
      "cell_type": "code",
      "metadata": {
        "colab": {
          "base_uri": "https://localhost:8080/"
        },
        "id": "cmQXXgBoA1d3",
        "outputId": "f6ee5f5b-4bc4-4a79-ac84-588510e23257"
      },
      "source": [
        "print(\"K-Fold average error rate for k=10:\")\n",
        "k_folds(model, data)"
      ],
      "execution_count": 12,
      "outputs": [
        {
          "output_type": "stream",
          "name": "stdout",
          "text": [
            "K-Fold average error rate for k=10:\n",
            "[0.0, 0.0, 0.0, 0.0, 0.2, 0.0, 0.0, 0.13333333333333333, 0.2, 0.0]\n",
            "Average error rate: 5%\n"
          ]
        }
      ]
    },
    {
      "cell_type": "code",
      "metadata": {
        "colab": {
          "base_uri": "https://localhost:8080/"
        },
        "id": "X0P9o_YgwaPG",
        "outputId": "a0d2ea85-85b6-4d7a-a5bd-396acef239ae"
      },
      "source": [
        "print(\"Bootstrap average error rate for 10 splits and 20% test size:\")\n",
        "bootstrap(model, data)"
      ],
      "execution_count": 13,
      "outputs": [
        {
          "output_type": "stream",
          "name": "stdout",
          "text": [
            "Bootstrap average error rate for 10 splits and 20% test size:\n",
            "[0.03333333333333333, 0.03333333333333333, 0.0, 0.0, 0.06666666666666667, 0.03333333333333333, 0.03333333333333333, 0.0, 0.03333333333333333, 0.03333333333333333]\n",
            "Average error rate: 3%\n"
          ]
        }
      ]
    },
    {
      "cell_type": "code",
      "metadata": {
        "id": "QuoqthkgNril"
      },
      "source": [
        "#-------------------------------------------------------------------------------\n",
        "# ID3 decision tree\n",
        "#-------------------------------------------------------------------------------\n",
        "class ID3():\n",
        "  def __init__(self):\n",
        "    self.root = None\n",
        "    self.features = None\n",
        "#-------------------------------------------------------------------------------\n",
        "  # Fits the data in the model and call gen tree for the root node\n",
        "  def fit(self, data):\n",
        "    features = features_cuts(data, data.columns.drop(\"target\"))\n",
        "  \n",
        "    self.root = Node()\n",
        "    self.gen_tree(self.root, data, features)\n",
        "  \n",
        "  # Generates a decision tree for the node\n",
        "  def gen_tree(self, node, data, features):\n",
        "\n",
        "      tgt = data.target.unique()\n",
        "      # Returns classification if data has only one class\n",
        "      if len(tgt) == 1: node.target = tgt[0]; return\n",
        "      \n",
        "      # No features\n",
        "      if len(features) == 0:\n",
        "        tgt = list(data.target)\n",
        "        node.target = max(set(tgt), key = tgt.count)\n",
        "        return\n",
        "    \n",
        "      feature = get_best_feature(data, features)\n",
        "      features = features.copy()\n",
        "      features = features_cuts(data, features)\n",
        "      cut = features[feature]\n",
        "      features.pop(feature)\n",
        "      \n",
        "      l_data = data[data[feature] <= cut]\n",
        "      r_data = data[data[feature] > cut]\n",
        "      \n",
        "      # If one of childs would have no data\n",
        "      if len(l_data) == 0 or len(r_data) == 0:\n",
        "        tgt = list(data.target)\n",
        "        node.target = max(set(tgt), key = tgt.count)\n",
        "        return\n",
        "        \n",
        "      node.feature = feature\n",
        "      node.cut = cut\n",
        "\n",
        "      node.l_child = Node(parent=node)\n",
        "      node.r_child = Node(parent=node)\n",
        "\n",
        "      self.gen_tree(node.l_child, l_data, features)\n",
        "      self.gen_tree(node.r_child, r_data, features)\n",
        "\n",
        "      # If both childs have the same prediction\n",
        "      pred_l = node.l_child.target\n",
        "      pred_r = node.r_child.target\n",
        "      if pred_l != None and pred_r != None:\n",
        "        if pred_l == pred_r:\n",
        "          node.target = pred_l\n",
        "          node.feature = None\n",
        "          node.cut = None\n",
        "          node.l_child = None\n",
        "          node.r_child = None\n",
        "  \n",
        "  # Validates with the test data\n",
        "  def validate(self, data):\n",
        "    errors = 0\n",
        "    data_size = len(data)\n",
        "    for i in data.index:#range(data_size):\n",
        "      indiv = data.loc[i]\n",
        "      pred = self.root.node_decision(indiv)\n",
        "      if pred != indiv[\"target\"]:\n",
        "        errors+=1\n",
        "    return errors/data_size\n",
        "  \n",
        "  # Return the data with predicted target\n",
        "  def predict(self, data):\n",
        "    for i in range(data_size):\n",
        "      indiv = data.loc[i]\n",
        "      pred = self.root.node_decision(indiv)\n",
        "      indiv[\"target\"] = pred\n",
        "\n",
        "  # Prints the tree in pre order\n",
        "  def print_tree(self, node, target_names):\n",
        "    if node: \n",
        "      node.print_node(target_names)\n",
        "      self.print_tree(node.l_child, target_names)\n",
        "      self.print_tree(node.r_child, target_names)\n",
        "\n",
        "    else: return \n",
        "#-------------------------------------------------------------------------------\n",
        "# Node class with parent, feature, left/right children, target and cut\n",
        "#-------------------------------------------------------------------------------\n",
        "# Parent: point to parent node\n",
        "# Feature: feauture of the node\n",
        "# Cut: cut of the feature\n",
        "# Target:if the node is a leaf target will contain the class decision.\n",
        "#-------------------------------------------------------------------------------\n",
        "class Node():\n",
        "    def __init__(self, parent=None):\n",
        "      self.parent = parent\n",
        "      self.feature = None\n",
        "      self.l_child = None\n",
        "      self.r_child = None\n",
        "      self.target = None\n",
        "      self.cut = None\n",
        "    \n",
        "    # Method to take decision\n",
        "    def node_decision(self, indiv):\n",
        "      if self.feature:\n",
        "        if indiv[self.feature] <= self.cut:\n",
        "          return self.l_child.node_decision(indiv)\n",
        "        else: return self.r_child.node_decision(indiv)\n",
        "      else:\n",
        "        return self.target\n",
        "    # print the node, if its a leaf prints the predicted class\n",
        "    def print_node(self, target_names):\n",
        "      if self.feature:\n",
        "        cut = '{0:.3g}'.format(self.cut)\n",
        "        print(self.feature, \": left <= \", cut, \" right > \", cut)\n",
        "      else:\n",
        "        print(target_names[self.target])\n",
        "#-------------------------------------------------------------------------------"
      ],
      "execution_count": 6,
      "outputs": []
    },
    {
      "cell_type": "code",
      "metadata": {
        "id": "ovAiVictroTq"
      },
      "source": [
        "# Return the best feature for decision with the actual data\n",
        "def get_best_feature(data, features):\n",
        "  f = features.copy()\n",
        "  for i in f:\n",
        "    cut = f.get(i)\n",
        "   #f[i] = gini_impurity(3, data, i, cut)\n",
        "    f[i] = info_gain(3, data, i, cut)\n",
        "  return max(f.items(), key=lambda x:x[1])[0]\n",
        "\n",
        "# Returns a features dictionary with format: {feature: cut}\n",
        "def features_cuts(data, f):\n",
        "  c = get_cuts(data, f)\n",
        "  features = {}\n",
        "  for i, key  in enumerate(f): features[key] = c[i]\n",
        "  return features\n",
        "\n",
        "# Function to get the best features cuts (in half for decision)\n",
        "def get_cuts(data, features):\n",
        "  cuts = []\n",
        "  for f in features:\n",
        "    cut = []\n",
        "    b = []\n",
        "    unique =  data[f].sort_values().unique()\n",
        "    for i, value in enumerate(unique):\n",
        "      if value == unique[-1]: break\n",
        "      cut.append((value + unique[i+1])/2)\n",
        "      #b.append(gini_impurity(3, data, f, cut[i]))\n",
        "      b.append(info_gain(3, data, f, cut[i]))\n",
        "    cuts.append(cut[b.index(max(b))])\n",
        "  return cuts\n",
        "\n",
        "\n",
        "#not used\n",
        "def gini_impurity(n_targets, dataset, feature, cut):\n",
        "  gain = [0,0]\n",
        "  size = [0,0]\n",
        "  values = []\n",
        "  sv = dataset[dataset[feature] <= cut]\n",
        "  for i in range(2):\n",
        "    gini_sum = 0\n",
        "    size[i] = len(sv)\n",
        "    if size[i] == 0: \n",
        "      sv = dataset[~dataset.isin(sv)].dropna()\n",
        "      gain[i] = 1\n",
        "      continue\n",
        "    for j in range(n_targets):\n",
        "      p = len(sv[sv[\"target\"]==j])/size[i] \n",
        "      gini_sum += p**2\n",
        "    gain[i] = 1 - gini_sum\n",
        "    sv = dataset[~dataset.isin(sv)].dropna()\n",
        "  size = [i/len(dataset) for i in size]\n",
        "  return (size[0]*gain[0]) + (size[1]*gain[1])"
      ],
      "execution_count": 5,
      "outputs": []
    },
    {
      "cell_type": "code",
      "metadata": {
        "id": "cfKTnFIGDSyO"
      },
      "source": [
        "def entropy(n_targets, dataset):\n",
        "  p = []\n",
        "  e_sum = 0\n",
        "  zeros = 0\n",
        "  for i in range(n_targets):\n",
        "    p_i = len(dataset[dataset.target==i])/len(dataset)\n",
        "    p.append(p_i)   \n",
        "    if p_i == 0 : zeros += 1\n",
        "  \n",
        "  if zeros == n_targets - 1: return 0\n",
        "\n",
        "  for i in p:\n",
        "    if i != 0: e_sum -= i*np.log2(i)\n",
        "  \n",
        "  return e_sum\n",
        "\n",
        "def info_gain(n_targets, dataset, feature, cut):\n",
        "  gain_sum = 0\n",
        "  sv = dataset[dataset[feature] <= cut]\n",
        "  for i in range(2):\n",
        "    sv_size = len(sv)\n",
        "    if not sv_size:\n",
        "      sv = dataset[dataset[feature] > cut]\n",
        "      continue\n",
        "    ev = entropy(n_targets, sv)\n",
        "    pv = sv_size / len(dataset)\n",
        "    gain_sum += pv*ev\n",
        "    sv = dataset[dataset[feature] > cut]\n",
        "  return entropy(n_targets, dataset) - gain_sum\n"
      ],
      "execution_count": 3,
      "outputs": []
    },
    {
      "cell_type": "code",
      "metadata": {
        "id": "I_fyBx6RlzYj"
      },
      "source": [
        "def bootstrap(model, data, n_splits=10, test_size=.2):\n",
        "  rs = ShuffleSplit(n_splits=n_splits, test_size=test_size)\n",
        "  errors_rate = []\n",
        "  \n",
        "  for train_index, test_index in rs.split(data):\n",
        "    x = data.loc[train_index]\n",
        "    y = data.loc[test_index]\n",
        "    model.fit(x)\n",
        "    errors_rate.append(model.validate(y))\n",
        "\n",
        "  print(errors_rate)\n",
        "  print(\"Average error rate:\", \"{0:.0%}\".format(sum(errors_rate) / len(errors_rate)))"
      ],
      "execution_count": 4,
      "outputs": []
    },
    {
      "cell_type": "code",
      "metadata": {
        "id": "yoGwkkMU6EsL"
      },
      "source": [
        "def k_folds(model, data, n_splits=10):\n",
        "\n",
        "  errors_rate = []\n",
        "  kf = KFold(n_splits=n_splits)\n",
        "  kf.get_n_splits(data)\n",
        "\n",
        "  for train_index, test_index in kf.split(data):\n",
        "    x, y = data.loc[train_index], data.loc[test_index]\n",
        "    model.fit(x)\n",
        "    errors_rate.append(model.validate(y))\n",
        "\n",
        "  print(errors_rate)\n",
        "  print(\"Average error rate:\", \"{0:.0%}\".format(sum(errors_rate) / len(errors_rate)))"
      ],
      "execution_count": 2,
      "outputs": []
    }
  ]
}