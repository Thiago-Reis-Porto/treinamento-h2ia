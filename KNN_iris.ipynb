{
  "nbformat": 4,
  "nbformat_minor": 0,
  "metadata": {
    "colab": {
      "name": "KNN_iris.ipynb",
      "provenance": [],
      "collapsed_sections": [],
      "authorship_tag": "ABX9TyOdTsmuWnSCVYLSt5Ksxlau",
      "include_colab_link": true
    },
    "kernelspec": {
      "name": "python3",
      "display_name": "Python 3"
    },
    "language_info": {
      "name": "python"
    }
  },
  "cells": [
    {
      "cell_type": "markdown",
      "metadata": {
        "id": "view-in-github",
        "colab_type": "text"
      },
      "source": [
        "<a href=\"https://colab.research.google.com/github/Thiago-Reis-Porto/treinamento-h2ia/blob/main/KNN_iris.ipynb\" target=\"_parent\"><img src=\"https://colab.research.google.com/assets/colab-badge.svg\" alt=\"Open In Colab\"/></a>"
      ]
    },
    {
      "cell_type": "markdown",
      "metadata": {
        "id": "Mqe1slzaOSLn"
      },
      "source": [
        "# **This notebook is an implementations of KNN in the iris dataset**"
      ]
    },
    {
      "cell_type": "code",
      "metadata": {
        "id": "D1B0ffwu9Yla"
      },
      "source": [
        "import matplotlib.pyplot as plt\n",
        "from matplotlib import style\n",
        "from sklearn.datasets import load_iris\n",
        "from sklearn.preprocessing import StandardScaler\n",
        "from sklearn.decomposition import PCA\n",
        "from sklearn.model_selection import train_test_split\n",
        "style.use(\"fivethirtyeight\")\n",
        "import numpy as np\n",
        "import pandas as pd\n",
        "import random"
      ],
      "execution_count": 28,
      "outputs": []
    },
    {
      "cell_type": "markdown",
      "metadata": {
        "id": "EA_JU0mbOl-i"
      },
      "source": [
        "KNN class"
      ]
    },
    {
      "cell_type": "code",
      "metadata": {
        "id": "YnpkAEBQKFIx"
      },
      "source": [
        "# Class to help show results for the validation test\n",
        "class Validation_stats:\n",
        "  def __init__(self, number_tgts):\n",
        "    self.true_positives = 0\n",
        "    self.false_positives_when = [0 for i in range(number_tgts)]\n",
        "  \n",
        "  def correct_classification(self):\n",
        "    self.true_positives+=1\n",
        "  \n",
        "  def incorrect_classification(self, correct_class, targets):\n",
        "    if correct_class < 0 or correct_class >= len(targets) :\n",
        "      print(\"Class index out of bounds\"); return\n",
        "\n",
        "    self.false_positives_when[correct_class]+=1\n",
        "\n",
        "# k-neighbors algoritm\n",
        "class KNN:\n",
        "  \n",
        "    def __init__(self, k, data=[]):\n",
        "        self.k = k\n",
        "        self.data = data\n",
        "        self.stats = {}\n",
        "        self.error_rate = 0\n",
        "  \n",
        "    def validate(self, targets, data_target):  \n",
        "        errors = 0\n",
        "        # for each data target point\n",
        "        for dt in data_target.itertuples():\n",
        "          # get the k closest neighbors\n",
        "          neighbors = self.__get_neighbors((dt.pc0, dt.pc1))\n",
        "          # get prediction by vote\n",
        "          pred = self.__class_vote(neighbors, len(targets))\n",
        "          errors += self.__update_stats(pred, dt.target, targets)\n",
        "\n",
        "        self.error_rate = errors/len(data_target)\n",
        "    \n",
        "    def predict(self, targets, n_atributes, data_target):\n",
        "      self.classification = data_target.copy()\n",
        "      self.classification.insert(n_atributes,\"target\",[0 for i in range(len(data_target))])\n",
        "      # for each target data point\n",
        "      for c in self.classification.itertuples():\n",
        "        # get the k closest neighbors\n",
        "        neighbors = self.__get_neighbors((c.pc0, c.pc1))\n",
        "        # get prediction by vote\n",
        "        pred = self.__class_vote(neighbors)\n",
        "        c.target=pred\n",
        "        \n",
        "\n",
        "    #get neighbors\n",
        "    def __get_neighbors(self, point):\n",
        "      distances = pd.DataFrame([np.linalg.norm((point[0]-dp.pc0, point[1]-dp.pc1)) for dp in self.data.itertuples()])\n",
        "      n = distances.nsmallest(self.k, 0)\n",
        "      return n.index\n",
        "    \n",
        "    # get class based on majority of neighbors classes\n",
        "    def __class_vote(self, neighbors, tgt_size):\n",
        "      votes = [0 for i in range(tgt_size)]\n",
        "      for n in neighbors:\n",
        "        vote = self.data[\"target\"].get(n)\n",
        "        votes[vote]+=1\n",
        "      max_vote = max(votes)\n",
        "      indices = [i for i, x in enumerate(votes) if x == max_vote]\n",
        "      return random.choice(indices)\n",
        "    \n",
        "    # update validation stats\n",
        "    def __update_stats(self, pred, tgt, targets):\n",
        "      if pred == tgt:\n",
        "        self.stats[targets[pred]].correct_classification(); return 0\n",
        "      else: \n",
        "        self.stats[targets[pred]].incorrect_classification(tgt, targets)\n",
        "        return 1\n"
      ],
      "execution_count": 304,
      "outputs": []
    },
    {
      "cell_type": "markdown",
      "metadata": {
        "id": "Aep9SY61QCVm"
      },
      "source": [
        "Load the iris data"
      ]
    },
    {
      "cell_type": "code",
      "metadata": {
        "id": "sfw4N88BP5Xa"
      },
      "source": [
        "iris = load_iris()"
      ],
      "execution_count": 29,
      "outputs": []
    },
    {
      "cell_type": "markdown",
      "metadata": {
        "id": "otbtzltFXDfp"
      },
      "source": [
        "**Prepare data:**"
      ]
    },
    {
      "cell_type": "code",
      "metadata": {
        "id": "4z3LkMwrizgV"
      },
      "source": [
        "# Normalize values\n",
        "normalized = StandardScaler().fit_transform(iris.data)"
      ],
      "execution_count": null,
      "outputs": []
    },
    {
      "cell_type": "code",
      "metadata": {
        "id": "_iCmdNIvjDCr"
      },
      "source": [
        "# iris data has 4 atributes\n",
        "N_ATRIBUTES = 4\n",
        "pca = PCA(n_components=N_ATRIBUTES)\n",
        "pcs = pca.fit_transform(normalized)"
      ],
      "execution_count": null,
      "outputs": []
    },
    {
      "cell_type": "markdown",
      "metadata": {
        "id": "Db4NkAZE5fRy"
      },
      "source": [
        "See with \"PCs\" are good"
      ]
    },
    {
      "cell_type": "code",
      "metadata": {
        "colab": {
          "base_uri": "https://localhost:8080/",
          "height": 325
        },
        "id": "GnGC-pPIkVqh",
        "outputId": "067ea130-2e7b-46a8-f110-ad6940195584"
      },
      "source": [
        "  plt.bar(x=range(N_ATRIBUTES) , height=pca.explained_variance_ratio_)\n",
        "  plt.ylabel(\"Variance\")\n",
        "  plt.xlabel(\"PC\")\n",
        "  plt.title(\"PC variation\")\n",
        "  plt.show()"
      ],
      "execution_count": null,
      "outputs": [
        {
          "output_type": "display_data",
          "data": {
            "image/png": "[encoded data removed]",
            "text/plain": [
              "<Figure size 432x288 with 1 Axes>"
            ]
          },
          "metadata": {}
        }
      ]
    },
    {
      "cell_type": "markdown",
      "metadata": {
        "id": "44PUUMardyCT"
      },
      "source": [
        "Looks like PC0 and PC1 says more about the data, lets work with them"
      ]
    },
    {
      "cell_type": "code",
      "metadata": {
        "id": "6Ia0xfCplISs"
      },
      "source": [
        "data = np.array(list(zip(pcs[:,0],pcs[:,1])))"
      ],
      "execution_count": 62,
      "outputs": []
    },
    {
      "cell_type": "code",
      "metadata": {
        "id": "SHw7REbvO-Po"
      },
      "source": [
        "columns = [\"pc0\", \"pc1\"]\n",
        "data = pd.DataFrame(data,columns=columns)\n",
        "data.insert(2,\"target\",list(iris.target))"
      ],
      "execution_count": 110,
      "outputs": []
    },
    {
      "cell_type": "markdown",
      "metadata": {
        "id": "hR0qm6xvC3pL"
      },
      "source": [
        "Split the data"
      ]
    },
    {
      "cell_type": "code",
      "metadata": {
        "colab": {
          "base_uri": "https://localhost:8080/"
        },
        "id": "x-lVt_ELC2j9",
        "outputId": "b10c3405-3af3-40e8-b9bd-5ff16db19020"
      },
      "source": [
        "source, test = train_test_split(data, test_size=0.2)\n",
        "source = source.reset_index(); test = test.reset_index()\n",
        "len(source), len(test)"
      ],
      "execution_count": 218,
      "outputs": [
        {
          "output_type": "execute_result",
          "data": {
            "text/plain": [
              "(120, 30)"
            ]
          },
          "metadata": {},
          "execution_count": 218
        }
      ]
    },
    {
      "cell_type": "code",
      "metadata": {
        "id": "MjS7y4Z9deIs"
      },
      "source": [
        "targets = [\"Setosa\", \"Versicolor\", \"Virginica\"]\n",
        "INTER = 5\n",
        "BATCH = 20\n",
        "error_rate = [0 for i in range(1, BATCH)]\n",
        "for i in range(INTER):\n",
        "  models = []\n",
        "  for b in range(1,BATCH):\n",
        "    models.append(KNN(b,data=source))\n",
        "    for j in targets:\n",
        "      models[b-1].stats[j] = Validation_stats(len(targets))\n",
        "    models[b-1].validate(targets, test)\n",
        "    error_rate[b-1]+=models[b-1].error_rate\n",
        "  error_rate = np.array(error_rate) / INTER"
      ],
      "execution_count": 322,
      "outputs": []
    },
    {
      "cell_type": "markdown",
      "metadata": {
        "id": "RpAwsmBdOuLo"
      },
      "source": [
        "Finding a good k value "
      ]
    },
    {
      "cell_type": "code",
      "metadata": {
        "colab": {
          "base_uri": "https://localhost:8080/",
          "height": 304
        },
        "id": "QFLl9PUuxHLT",
        "outputId": "e9a5797f-32d6-4f6b-da11-0cd502118ba6"
      },
      "source": [
        "plt.plot(range(1, BATCH), error_rate,)\n",
        "plt.xlabel(\"k\")\n",
        "plt.xticks(range(1, BATCH))\n",
        "plt.ylabel(\"Error rate\")\n",
        "plt.show()"
      ],
      "execution_count": 323,
      "outputs": [
        {
          "output_type": "display_data",
          "data": {
            "image/png": "[encoded data removed]",
            "text/plain": [
              "<Figure size 432x288 with 1 Axes>"
            ]
          },
          "metadata": {}
        }
      ]
    },
    {
      "cell_type": "markdown",
      "metadata": {
        "id": "yBTtefjTRNVN"
      },
      "source": [
        "Lets work with 4, looks like a good number while not overfiting"
      ]
    },
    {
      "cell_type": "code",
      "metadata": {
        "id": "bT-eWsKBAEY8"
      },
      "source": [
        "model = models[3]"
      ],
      "execution_count": 326,
      "outputs": []
    },
    {
      "cell_type": "markdown",
      "metadata": {
        "id": "b6qVLEDU4RhC"
      },
      "source": [
        "# **Result:**"
      ]
    },
    {
      "cell_type": "code",
      "metadata": {
        "colab": {
          "base_uri": "https://localhost:8080/"
        },
        "id": "YMJ-s4s3wNaa",
        "outputId": "b526ef9b-c79d-401d-d18a-d3b9d491e7a5"
      },
      "source": [
        "for class_name in model.stats.keys():\n",
        "  class_stats = model.stats[class_name]\n",
        "  print(f\"{class_name}:\")\n",
        "  print(\"Correct Predictions: \", class_stats.true_positives)\n",
        "  for ind, tgt in enumerate(class_stats.false_positives_when):\n",
        "    if tgt: print(f\"Incorrect Predictions when it was {targets[ind]}:\", tgt)\n",
        "  print(\"\\n\")"
      ],
      "execution_count": 329,
      "outputs": [
        {
          "output_type": "stream",
          "name": "stdout",
          "text": [
            "Setosa:\n",
            "Correct Predictions:  10\n",
            "\n",
            "\n",
            "Versicolor:\n",
            "Correct Predictions:  12\n",
            "\n",
            "\n",
            "Virginica:\n",
            "Correct Predictions:  6\n",
            "Incorrect Predictions when it was Versicolor: 2\n",
            "\n",
            "\n"
          ]
        }
      ]
    }
  ]
}