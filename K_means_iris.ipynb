{
  "nbformat": 4,
  "nbformat_minor": 0,
  "metadata": {
    "colab": {
      "name": "K-means_iris.ipynb",
      "provenance": [],
      "authorship_tag": "ABX9TyMu0cJaJUXJEtic5tMZPKhW",
      "include_colab_link": true
    },
    "kernelspec": {
      "name": "python3",
      "display_name": "Python 3"
    },
    "language_info": {
      "name": "python"
    }
  },
  "cells": [
    {
      "cell_type": "markdown",
      "metadata": {
        "id": "view-in-github",
        "colab_type": "text"
      },
      "source": [
        "<a href=\"https://colab.research.google.com/github/Thiago-Reis-Porto/treinamento-h2ia/blob/main/K_means_iris.ipynb\" target=\"_parent\"><img src=\"https://colab.research.google.com/assets/colab-badge.svg\" alt=\"Open In Colab\"/></a>"
      ]
    },
    {
      "cell_type": "markdown",
      "metadata": {
        "id": "Mqe1slzaOSLn"
      },
      "source": [
        "<h1><center><color><b>This notebook is an implementations of k-means in the iris dataset<h1>"
      ]
    },
    {
      "cell_type": "code",
      "metadata": {
        "id": "D1B0ffwu9Yla"
      },
      "source": [
        "import matplotlib.pyplot as plt\n",
        "from matplotlib import style\n",
        "from sklearn.datasets import load_iris\n",
        "from sklearn.preprocessing import StandardScaler\n",
        "from sklearn.decomposition import PCA\n",
        "style.use(\"fivethirtyeight\")\n",
        "import numpy as np"
      ],
      "execution_count": 138,
      "outputs": []
    },
    {
      "cell_type": "markdown",
      "metadata": {
        "id": "EA_JU0mbOl-i"
      },
      "source": [
        "K-means class"
      ]
    },
    {
      "cell_type": "code",
      "metadata": {
        "id": "YnpkAEBQKFIx"
      },
      "source": [
        "#TODO remove centroids when no points are assigned to it\n",
        "class K_Means:\n",
        "  \n",
        "    def __init__(self, k, tol=0.001, max_iter=100):\n",
        "        self.k = k\n",
        "        self.tol = tol\n",
        "        self.max_iter = max_iter\n",
        "\n",
        "    def fit(self,data):\n",
        "\n",
        "        self.centroids = {}\n",
        "        \n",
        "        #initialize centroids with first date / could use random here\n",
        "        for i in range(self.k): self.centroids[i] = data[i]\n",
        "            \n",
        "        #interate\n",
        "        for i in range(self.max_iter):\n",
        "            \n",
        "            #new classification\n",
        "            self.classifications = {}\n",
        "            self.inertia = 0\n",
        "            \n",
        "            #initialize classification of each centroid\n",
        "            for i in range(self.k): self.classifications[i] = []\n",
        "\n",
        "            for featureset in data:\n",
        "                # for every data get the distances from each centroid  with the linalg norm function\n",
        "                # data point - centroid point = vector, then get the vector size\n",
        "                distances = [np.linalg.norm(featureset-self.centroids[centroid]) for centroid in self.centroids]\n",
        "                # Put the data in the classification accordingly with the min distance\n",
        "                min_dist = min(distances, default=\"EMPTY\")\n",
        "                #if not_dist\n",
        "                self.classifications[distances.index(min_dist)].append(featureset)\n",
        "                self.inertia += min_dist            \n",
        "            \n",
        "            # Save old centroids    \n",
        "            prev_centroids = dict(self.centroids)\n",
        "\n",
        "            # Get new centroids base on the average of the groups\n",
        "            for classification in self.classifications:\n",
        "                self.centroids[classification] = np.average(self.classifications[classification],axis=0)\n",
        "\n",
        "            # If the centroids diference is equal or smaller than the tolerance stop\n",
        "            optimized = True\n",
        "            for c in self.centroids:\n",
        "                if np.sum((self.centroids[c] - prev_centroids[c])/prev_centroids[c]*100.0) > self.tol:\n",
        "                    optimized = False; break\n",
        "\n",
        "            if optimized: break\n",
        "    \n",
        "    # Predict new data based on trained centroids\n",
        "    def predict(self,data):\n",
        "        distances = [np.linalg.norm(data-self.centroids[centroid]) for centroid in self.centroids]\n",
        "        classification = distances.index(min(distances))\n",
        "        return classification"
      ],
      "execution_count": 140,
      "outputs": []
    },
    {
      "cell_type": "markdown",
      "metadata": {
        "id": "Aep9SY61QCVm"
      },
      "source": [
        "Load the iris data"
      ]
    },
    {
      "cell_type": "code",
      "metadata": {
        "id": "sfw4N88BP5Xa"
      },
      "source": [
        "iris = load_iris()"
      ],
      "execution_count": 28,
      "outputs": []
    },
    {
      "cell_type": "markdown",
      "metadata": {
        "id": "otbtzltFXDfp"
      },
      "source": [
        "**Prepare data:**"
      ]
    },
    {
      "cell_type": "code",
      "metadata": {
        "id": "4z3LkMwrizgV"
      },
      "source": [
        "# Normalize values\n",
        "normalized = StandardScaler().fit_transform(iris.data)"
      ],
      "execution_count": 130,
      "outputs": []
    },
    {
      "cell_type": "code",
      "metadata": {
        "id": "_iCmdNIvjDCr"
      },
      "source": [
        "# iris data has 4 atributes\n",
        "n_atributes = 4\n",
        "pca = PCA(n_components=n_atributes)\n",
        "pcs = pca.fit_transform(normalized)"
      ],
      "execution_count": 131,
      "outputs": []
    },
    {
      "cell_type": "markdown",
      "metadata": {
        "id": "Db4NkAZE5fRy"
      },
      "source": [
        "See with \"PCs\" are good"
      ]
    },
    {
      "cell_type": "code",
      "metadata": {
        "colab": {
          "base_uri": "https://localhost:8080/",
          "height": 325
        },
        "id": "GnGC-pPIkVqh",
        "outputId": "69e7ef8d-e1bd-4052-9744-5f98aa69962a"
      },
      "source": [
        "  plt.bar(x=range(n_atributes) , height=pca.explained_variance_ratio_)\n",
        "  plt.ylabel(\"Variance\")\n",
        "  plt.xlabel(\"PC\")\n",
        "  plt.title(\"PC variation\")\n",
        "  plt.show()"
      ],
      "execution_count": 86,
      "outputs": [
        {
          "output_type": "display_data",
          "data": {
            "image/png": "[encoded data removed]",
            "text/plain": [
              "<Figure size 432x288 with 1 Axes>"
            ]
          },
          "metadata": {}
        }
      ]
    },
    {
      "cell_type": "markdown",
      "metadata": {
        "id": "44PUUMardyCT"
      },
      "source": [
        "Looks like PC0 and PC1 says more about the data, lets work with them"
      ]
    },
    {
      "cell_type": "code",
      "metadata": {
        "id": "6Ia0xfCplISs"
      },
      "source": [
        "data = np.array(list(zip(pcs[:,0],pcs[:,1])))"
      ],
      "execution_count": 132,
      "outputs": []
    },
    {
      "cell_type": "markdown",
      "metadata": {
        "id": "RpAwsmBdOuLo"
      },
      "source": [
        "Finding a good k value with the elbow method"
      ]
    },
    {
      "cell_type": "code",
      "metadata": {
        "colab": {
          "base_uri": "https://localhost:8080/",
          "height": 325
        },
        "id": "Q-d0tpvLPSTg",
        "outputId": "9203009c-9675-4103-975d-441eaa8a6492"
      },
      "source": [
        "sse = []\n",
        "model = []\n",
        "for i in range(1,6):\n",
        "  model.append(K_Means(i))\n",
        "  model[i-1].fit(data)\n",
        "  sse.append( model[i-1].inertia)\n",
        "plt.title(\"Elbow\")\n",
        "plt.plot(range(1,6),sse)\n",
        "plt.xlabel(\"Number of Clusters\")\n",
        "plt.ylabel(\"SSE\")\n",
        "plt.show()"
      ],
      "execution_count": 133,
      "outputs": [
        {
          "output_type": "display_data",
          "data": {
            "image/png": "[encoded data removed]",
            "text/plain": [
              "<Figure size 432x288 with 1 Axes>"
            ]
          },
          "metadata": {}
        }
      ]
    },
    {
      "cell_type": "markdown",
      "metadata": {
        "id": "yBTtefjTRNVN"
      },
      "source": [
        "Looks like 3 is a good value for k"
      ]
    },
    {
      "cell_type": "code",
      "metadata": {
        "id": "bT-eWsKBAEY8"
      },
      "source": [
        "model = model[2]"
      ],
      "execution_count": 134,
      "outputs": []
    },
    {
      "cell_type": "code",
      "metadata": {
        "colab": {
          "base_uri": "https://localhost:8080/"
        },
        "id": "uF6cPw8JWvoD",
        "outputId": "02a0f7d8-7f59-4715-b5a5-9bf3f1b1cb01"
      },
      "source": [
        "model.centroids"
      ],
      "execution_count": 135,
      "outputs": [
        {
          "output_type": "execute_result",
          "data": {
            "text/plain": [
              "{0: array([1.7331456 , 0.66828389]),\n",
              " 1: array([ 0.6246295 , -0.78305114]),\n",
              " 2: array([-2.22475316,  0.28892745])}"
            ]
          },
          "metadata": {},
          "execution_count": 135
        }
      ]
    },
    {
      "cell_type": "markdown",
      "metadata": {
        "id": "b6qVLEDU4RhC"
      },
      "source": [
        "<h1><b><center>Result:"
      ]
    },
    {
      "cell_type": "code",
      "metadata": {
        "colab": {
          "base_uri": "https://localhost:8080/",
          "height": 304
        },
        "id": "St7qWbPDn2om",
        "outputId": "a1d2371e-b0e5-450b-e7c1-e3632cc78899"
      },
      "source": [
        "for i in (dict.values(model.classifications)):\n",
        "    x = []; y =[]\n",
        "    for j in i:\n",
        "      x.append(j[0]); y.append(j[1])\n",
        "    plt.scatter(x,y)\n",
        "\n",
        "plt.ylabel(\"PC1\")\n",
        "plt.xlabel(\"PC0\")\n",
        "plt.show()"
      ],
      "execution_count": 136,
      "outputs": [
        {
          "output_type": "display_data",
          "data": {
            "image/png": "[encoded data removed]",
            "text/plain": [
              "<Figure size 432x288 with 1 Axes>"
            ]
          },
          "metadata": {}
        }
      ]
    }
  ]
}