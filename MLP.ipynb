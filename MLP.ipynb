{
  "nbformat": 4,
  "nbformat_minor": 0,
  "metadata": {
    "colab": {
      "name": "MLP.ipynb",
      "provenance": [],
      "collapsed_sections": [],
      "authorship_tag": "ABX9TyOkgf+KrPiV9JSVRGsLGcfE",
      "include_colab_link": true
    },
    "kernelspec": {
      "display_name": "Python 3",
      "name": "python3"
    },
    "language_info": {
      "name": "python"
    }
  },
  "cells": [
    {
      "cell_type": "markdown",
      "metadata": {
        "id": "view-in-github",
        "colab_type": "text"
      },
      "source": [
        "<a href=\"https://colab.research.google.com/github/Thiago-Reis-Porto/treinamento-h2ia/blob/main/MLP.ipynb\" target=\"_parent\"><img src=\"https://colab.research.google.com/assets/colab-badge.svg\" alt=\"Open In Colab\"/></a>"
      ]
    },
    {
      "cell_type": "code",
      "metadata": {
        "id": "hyIU6IY7EjeA"
      },
      "source": [
        "from keras.datasets import mnist\n",
        "import numpy as np\n",
        "import pandas as pd \n",
        "import matplotlib.pyplot as plt\n",
        "from tqdm import trange\n",
        "\n",
        "%matplotlib inline"
      ],
      "execution_count": 32,
      "outputs": []
    },
    {
      "cell_type": "code",
      "metadata": {
        "id": "qepDvEnkPI6d"
      },
      "source": [
        "# Base class with foward and backpropagation\n",
        "class Layer:\n",
        "    \n",
        "    def forward(self, input):\n",
        "        return input\n",
        "\n",
        "    def backward(self, input, grad_output):\n",
        "\n",
        "        num_individuals = input.shape[1]\n",
        "        d_layer_d_input = np.identity(num_individuals)\n",
        "        \n",
        "        #d loss / d x  = (d loss / d layer) * (d layer / d x)\n",
        "        return np.dot(grad_output, d_layer_d_input) # chain rule"
      ],
      "execution_count": 2,
      "outputs": []
    },
    {
      "cell_type": "code",
      "metadata": {
        "id": "_0S2x06nZ9eB"
      },
      "source": [
        "# ReLU function: f(x) = max(0, x)\n",
        "class ReLU(Layer):\n",
        "\n",
        "    def forward(self, input):\n",
        "        # elementwise ReLU\n",
        "        return np.maximum(0,input)\n",
        "    \n",
        "    def backward(self, input, grad_output):\n",
        "        # Compute gradient of loss w.r.t. ReLU input\n",
        "        # Derivate ReLU: f'(x) = {1 if x >0 else 0}\n",
        "        relu_grad = input > 0\n",
        "        return grad_output*relu_grad"
      ],
      "execution_count": 3,
      "outputs": []
    },
    {
      "cell_type": "code",
      "metadata": {
        "id": "lhS3fO8uabye"
      },
      "source": [
        "# D:  f(x) = <W*x> + b\n",
        "class Dense(Layer):\n",
        "    \n",
        "    def __init__(self, n_input, n_output, learning_rate=0.1):\n",
        "      \n",
        "        self.learning_rate = learning_rate\n",
        "        self.weights = np.random.normal(loc=0.0, scale=np.sqrt(2/(n_input + n_output)), size = (n_input,n_output)) # Xavier init\n",
        "        self.biases = np.zeros(n_output)\n",
        "        \n",
        "    def forward(self,input):\n",
        "        # f(x) = W*x + b\n",
        "        return np.dot(input,self.weights) + self.biases\n",
        "    \n",
        "    def backward(self,input,grad_output):\n",
        "        # d f / d x = d f / d dense * d dense / d x\n",
        "        # where d dense/ d x = weights transposed\n",
        "        grad_input = np.dot(grad_output, self.weights.T)\n",
        "        \n",
        "        # gradient w.r.t. \n",
        "        grad_weights = np.dot(input.T, grad_output)\n",
        "        grad_biases = grad_output.mean(axis=0)*input.shape[0]\n",
        "        \n",
        "        assert grad_weights.shape == self.weights.shape and grad_biases.shape == self.biases.shape\n",
        "        \n",
        "        # stochastic gradient descent step. \n",
        "        self.weights = self.weights - self.learning_rate * grad_weights\n",
        "        self.biases = self.biases - self.learning_rate * grad_biases\n",
        "        \n",
        "        return grad_input"
      ],
      "execution_count": 4,
      "outputs": []
    },
    {
      "cell_type": "markdown",
      "metadata": {
        "id": "dflyiY0qixoP"
      },
      "source": [
        "Loss Function softmax Crossentropy"
      ]
    },
    {
      "cell_type": "code",
      "metadata": {
        "id": "yxqqu8Xjfcqx"
      },
      "source": [
        "# Crossentropy instead of estimated probability\n",
        "#  crossentropy and gradient from logits[batch, classes] and ids of correct answers\n",
        "def softmax_crossentropy_with_logits(logits, target):\n",
        "    \n",
        "    logits_for_answers = logits[np.arange(len(logits)),target]\n",
        "    xentropy = - logits_for_answers + np.log(np.sum(np.exp(logits),axis=-1))\n",
        "    \n",
        "    return xentropy\n",
        "\n",
        "def grad_softmax_crossentropy_with_logits(logits, target):\n",
        "\n",
        "    ones_for_answers = np.zeros_like(logits)\n",
        "    ones_for_answers[np.arange(len(logits)),target] = 1\n",
        "    \n",
        "    softmax = np.exp(logits) / np.exp(logits).sum(axis=-1,keepdims=True)\n",
        "    \n",
        "    return (- ones_for_answers + softmax) / logits.shape[0]"
      ],
      "execution_count": 5,
      "outputs": []
    },
    {
      "cell_type": "code",
      "metadata": {
        "id": "27r7-oZbay6k"
      },
      "source": [
        "def plot_predictions(data, target, prediction, n_plots=8,figsize=[15,15]):\n",
        "  plt.figure(figsize=figsize)\n",
        "  for i in range(n_plots):\n",
        "      plt.subplot(n_plots/2, n_plots/2, i+1)\n",
        "      plt.title(f'Target: {target[i]}   Predicted: {prediction[i]}')\n",
        "      plt.imshow(data[i].reshape([28,28]),cmap='gray');"
      ],
      "execution_count": 26,
      "outputs": []
    },
    {
      "cell_type": "code",
      "metadata": {
        "id": "k-_vEDBAWRS3"
      },
      "source": [
        "class MLP:\n",
        "  def __init__(self):\n",
        "    self.network = [] \n",
        "  \n",
        "  def add_to_network(self, dense, hidden=True):\n",
        "    self.network.append(dense)\n",
        "    if hidden: self.network.append(ReLU())\n",
        "  \n",
        "  def forward(self,X):\n",
        "    # Return a list of activations for each layer. \n",
        "    activations = []\n",
        "    input = X\n",
        "    \n",
        "    for l in self.network:\n",
        "        activations.append(l.forward(input))\n",
        "        input = activations[-1]\n",
        "\n",
        "    assert len(activations) == len(self.network)\n",
        "    return activations\n",
        "  \n",
        "  def predict(self, X):\n",
        "    logits = self.forward(X)[-1]\n",
        "    return logits.argmax(axis=-1)\n",
        "\n",
        "  def train(self, X,y): \n",
        "    \n",
        "    # Get the layer activations\n",
        "    layer_activations = self.forward(X)\n",
        "    layer_inputs = [X]+layer_activations  \n",
        "    logits = layer_activations[-1]\n",
        "    \n",
        "    loss = softmax_crossentropy_with_logits(logits,y)\n",
        "    loss_grad = grad_softmax_crossentropy_with_logits(logits,y)\n",
        "    \n",
        "    # Propagate gradients\n",
        "    for layer_index in range(len(self.network))[::-1]:\n",
        "        layer = self.network[layer_index]\n",
        "        # Reverse propogation\n",
        "        loss_grad = layer.backward(layer_inputs[layer_index],loss_grad) \n",
        "        \n",
        "    return np.mean(loss)"
      ],
      "execution_count": 7,
      "outputs": []
    },
    {
      "cell_type": "markdown",
      "metadata": {
        "id": "mCNUDFjBWBNJ"
      },
      "source": [
        "Data\n"
      ]
    },
    {
      "cell_type": "code",
      "metadata": {
        "id": "hcoctdlwdteD"
      },
      "source": [
        "(X_train, y_train), (X_test, y_test) = mnist.load_data()\n",
        "# normalize x\n",
        "X_train = X_train.astype(float) / 255.\n",
        "X_test = X_test.astype(float) / 255.\n",
        "# last 10000  for validation\n",
        "X_train, X_val = X_train[:-10000], X_train[-10000:]\n",
        "y_train, y_val = y_train[:-10000], y_train[-10000:]\n",
        "    \n",
        "X_train = X_train.reshape([X_train.shape[0], -1])\n",
        "X_val = X_val.reshape([X_val.shape[0], -1])\n",
        "X_test = X_test.reshape([X_test.shape[0], -1])"
      ],
      "execution_count": 20,
      "outputs": []
    },
    {
      "cell_type": "code",
      "metadata": {
        "colab": {
          "base_uri": "https://localhost:8080/"
        },
        "id": "wnHhz8wcKEQW",
        "outputId": "7dfb7fb3-76e8-485d-f45d-c04d1d173f1d"
      },
      "source": [
        "model = MLP()\n",
        "model.add_to_network(Dense(X_train.shape[1],100))\n",
        "model.add_to_network(Dense(100,200))\n",
        "model.add_to_network(Dense(200,10), hidden=False)\n",
        "len(model.network)"
      ],
      "execution_count": 21,
      "outputs": [
        {
          "output_type": "execute_result",
          "data": {
            "text/plain": [
              "5"
            ]
          },
          "metadata": {},
          "execution_count": 21
        }
      ]
    },
    {
      "cell_type": "code",
      "metadata": {
        "id": "yuA4TFvuWI3-"
      },
      "source": [
        "# Mini-batch stochastic gradient descent.\n",
        "def iterate_minibatches(inputs, targets, batchsize, shuffle=False):\n",
        "    assert len(inputs) == len(targets)\n",
        "    \n",
        "    if shuffle: indices = np.random.permutation(len(inputs))\n",
        "    \n",
        "    for start_idx in trange(0, len(inputs) - batchsize + 1, batchsize):\n",
        "        if shuffle: excerpt = indices[start_idx:start_idx + batchsize]\n",
        "        else: excerpt = slice(start_idx, start_idx + batchsize)\n",
        "        \n",
        "        yield inputs[excerpt], targets[excerpt]"
      ],
      "execution_count": 10,
      "outputs": []
    },
    {
      "cell_type": "code",
      "metadata": {
        "id": "i4UNqPhRApyb"
      },
      "source": [
        "def train_epochs(X_train, y_train, model, X_val, y_val):\n",
        "  train_log = []\n",
        "  val_log = []\n",
        "  for epoch in range(25):\n",
        "      for x_batch,y_batch in iterate_minibatches(X_train,y_train,batchsize=32,shuffle=True):\n",
        "          model.train(x_batch,y_batch)\n",
        "      train_log.append(np.mean(model.predict(X_train)==y_train))\n",
        "      val_log.append(np.mean(model.predict(X_val)==y_val))\n",
        "      print(\"Epoch\",epoch)\n",
        "      print(\"Train accuracy:\",train_log[-1])\n",
        "      print(\"Val accuracy:\",val_log[-1])\n",
        "  return train_log, val_log"
      ],
      "execution_count": 22,
      "outputs": []
    },
    {
      "cell_type": "code",
      "metadata": {
        "colab": {
          "base_uri": "https://localhost:8080/"
        },
        "id": "Sy625vjZZmua",
        "outputId": "9d5e4bcb-49e4-4bc6-b556-f0efeff0ca7b"
      },
      "source": [
        "train_log, val_log = train_epochs(X_train, y_train, model, X_val, y_val)"
      ],
      "execution_count": 23,
      "outputs": [
        {
          "output_type": "stream",
          "name": "stderr",
          "text": [
            "100%|██████████| 1562/1562 [00:04<00:00, 387.86it/s]\n"
          ]
        },
        {
          "output_type": "stream",
          "name": "stdout",
          "text": [
            "Epoch 0\n",
            "Train accuracy: 0.95566\n",
            "Val accuracy: 0.9565\n"
          ]
        },
        {
          "output_type": "stream",
          "name": "stderr",
          "text": [
            "100%|██████████| 1562/1562 [00:03<00:00, 397.54it/s]\n"
          ]
        },
        {
          "output_type": "stream",
          "name": "stdout",
          "text": [
            "Epoch 1\n",
            "Train accuracy: 0.96754\n",
            "Val accuracy: 0.9644\n"
          ]
        },
        {
          "output_type": "stream",
          "name": "stderr",
          "text": [
            "100%|██████████| 1562/1562 [00:03<00:00, 394.85it/s]\n"
          ]
        },
        {
          "output_type": "stream",
          "name": "stdout",
          "text": [
            "Epoch 2\n",
            "Train accuracy: 0.98082\n",
            "Val accuracy: 0.9709\n"
          ]
        },
        {
          "output_type": "stream",
          "name": "stderr",
          "text": [
            "100%|██████████| 1562/1562 [00:03<00:00, 392.66it/s]\n"
          ]
        },
        {
          "output_type": "stream",
          "name": "stdout",
          "text": [
            "Epoch 3\n",
            "Train accuracy: 0.98202\n",
            "Val accuracy: 0.9738\n"
          ]
        },
        {
          "output_type": "stream",
          "name": "stderr",
          "text": [
            "100%|██████████| 1562/1562 [00:03<00:00, 400.24it/s]\n"
          ]
        },
        {
          "output_type": "stream",
          "name": "stdout",
          "text": [
            "Epoch 4\n",
            "Train accuracy: 0.98782\n",
            "Val accuracy: 0.9751\n"
          ]
        },
        {
          "output_type": "stream",
          "name": "stderr",
          "text": [
            "100%|██████████| 1562/1562 [00:03<00:00, 398.04it/s]\n"
          ]
        },
        {
          "output_type": "stream",
          "name": "stdout",
          "text": [
            "Epoch 5\n",
            "Train accuracy: 0.98758\n",
            "Val accuracy: 0.9726\n"
          ]
        },
        {
          "output_type": "stream",
          "name": "stderr",
          "text": [
            "100%|██████████| 1562/1562 [00:03<00:00, 396.24it/s]\n"
          ]
        },
        {
          "output_type": "stream",
          "name": "stdout",
          "text": [
            "Epoch 6\n",
            "Train accuracy: 0.9886\n",
            "Val accuracy: 0.9745\n"
          ]
        },
        {
          "output_type": "stream",
          "name": "stderr",
          "text": [
            "100%|██████████| 1562/1562 [00:03<00:00, 399.90it/s]\n"
          ]
        },
        {
          "output_type": "stream",
          "name": "stdout",
          "text": [
            "Epoch 7\n",
            "Train accuracy: 0.99372\n",
            "Val accuracy: 0.9758\n"
          ]
        },
        {
          "output_type": "stream",
          "name": "stderr",
          "text": [
            "100%|██████████| 1562/1562 [00:03<00:00, 395.42it/s]\n"
          ]
        },
        {
          "output_type": "stream",
          "name": "stdout",
          "text": [
            "Epoch 8\n",
            "Train accuracy: 0.99632\n",
            "Val accuracy: 0.9769\n"
          ]
        },
        {
          "output_type": "stream",
          "name": "stderr",
          "text": [
            "100%|██████████| 1562/1562 [00:03<00:00, 397.49it/s]\n"
          ]
        },
        {
          "output_type": "stream",
          "name": "stdout",
          "text": [
            "Epoch 9\n",
            "Train accuracy: 0.99632\n",
            "Val accuracy: 0.9786\n"
          ]
        },
        {
          "output_type": "stream",
          "name": "stderr",
          "text": [
            "100%|██████████| 1562/1562 [00:03<00:00, 397.22it/s]\n"
          ]
        },
        {
          "output_type": "stream",
          "name": "stdout",
          "text": [
            "Epoch 10\n",
            "Train accuracy: 0.99724\n",
            "Val accuracy: 0.9781\n"
          ]
        },
        {
          "output_type": "stream",
          "name": "stderr",
          "text": [
            "100%|██████████| 1562/1562 [00:04<00:00, 389.34it/s]\n"
          ]
        },
        {
          "output_type": "stream",
          "name": "stdout",
          "text": [
            "Epoch 11\n",
            "Train accuracy: 0.99778\n",
            "Val accuracy: 0.979\n"
          ]
        },
        {
          "output_type": "stream",
          "name": "stderr",
          "text": [
            "100%|██████████| 1562/1562 [00:03<00:00, 396.84it/s]\n"
          ]
        },
        {
          "output_type": "stream",
          "name": "stdout",
          "text": [
            "Epoch 12\n",
            "Train accuracy: 0.99886\n",
            "Val accuracy: 0.9798\n"
          ]
        },
        {
          "output_type": "stream",
          "name": "stderr",
          "text": [
            "100%|██████████| 1562/1562 [00:04<00:00, 388.10it/s]\n"
          ]
        },
        {
          "output_type": "stream",
          "name": "stdout",
          "text": [
            "Epoch 13\n",
            "Train accuracy: 0.99934\n",
            "Val accuracy: 0.9802\n"
          ]
        },
        {
          "output_type": "stream",
          "name": "stderr",
          "text": [
            "100%|██████████| 1562/1562 [00:03<00:00, 394.67it/s]\n"
          ]
        },
        {
          "output_type": "stream",
          "name": "stdout",
          "text": [
            "Epoch 14\n",
            "Train accuracy: 0.99968\n",
            "Val accuracy: 0.9804\n"
          ]
        },
        {
          "output_type": "stream",
          "name": "stderr",
          "text": [
            "100%|██████████| 1562/1562 [00:03<00:00, 392.70it/s]\n"
          ]
        },
        {
          "output_type": "stream",
          "name": "stdout",
          "text": [
            "Epoch 15\n",
            "Train accuracy: 0.99994\n",
            "Val accuracy: 0.981\n"
          ]
        },
        {
          "output_type": "stream",
          "name": "stderr",
          "text": [
            "100%|██████████| 1562/1562 [00:04<00:00, 389.48it/s]\n"
          ]
        },
        {
          "output_type": "stream",
          "name": "stdout",
          "text": [
            "Epoch 16\n",
            "Train accuracy: 0.99998\n",
            "Val accuracy: 0.9801\n"
          ]
        },
        {
          "output_type": "stream",
          "name": "stderr",
          "text": [
            "100%|██████████| 1562/1562 [00:03<00:00, 391.61it/s]\n"
          ]
        },
        {
          "output_type": "stream",
          "name": "stdout",
          "text": [
            "Epoch 17\n",
            "Train accuracy: 0.99978\n",
            "Val accuracy: 0.9807\n"
          ]
        },
        {
          "output_type": "stream",
          "name": "stderr",
          "text": [
            "100%|██████████| 1562/1562 [00:03<00:00, 391.97it/s]\n"
          ]
        },
        {
          "output_type": "stream",
          "name": "stdout",
          "text": [
            "Epoch 18\n",
            "Train accuracy: 1.0\n",
            "Val accuracy: 0.9802\n"
          ]
        },
        {
          "output_type": "stream",
          "name": "stderr",
          "text": [
            "100%|██████████| 1562/1562 [00:03<00:00, 396.51it/s]\n"
          ]
        },
        {
          "output_type": "stream",
          "name": "stdout",
          "text": [
            "Epoch 19\n",
            "Train accuracy: 1.0\n",
            "Val accuracy: 0.981\n"
          ]
        },
        {
          "output_type": "stream",
          "name": "stderr",
          "text": [
            "100%|██████████| 1562/1562 [00:04<00:00, 388.27it/s]\n"
          ]
        },
        {
          "output_type": "stream",
          "name": "stdout",
          "text": [
            "Epoch 20\n",
            "Train accuracy: 1.0\n",
            "Val accuracy: 0.9804\n"
          ]
        },
        {
          "output_type": "stream",
          "name": "stderr",
          "text": [
            "100%|██████████| 1562/1562 [00:03<00:00, 397.10it/s]\n"
          ]
        },
        {
          "output_type": "stream",
          "name": "stdout",
          "text": [
            "Epoch 21\n",
            "Train accuracy: 1.0\n",
            "Val accuracy: 0.9803\n"
          ]
        },
        {
          "output_type": "stream",
          "name": "stderr",
          "text": [
            "100%|██████████| 1562/1562 [00:04<00:00, 385.12it/s]\n"
          ]
        },
        {
          "output_type": "stream",
          "name": "stdout",
          "text": [
            "Epoch 22\n",
            "Train accuracy: 1.0\n",
            "Val accuracy: 0.9808\n"
          ]
        },
        {
          "output_type": "stream",
          "name": "stderr",
          "text": [
            "100%|██████████| 1562/1562 [00:03<00:00, 393.47it/s]\n"
          ]
        },
        {
          "output_type": "stream",
          "name": "stdout",
          "text": [
            "Epoch 23\n",
            "Train accuracy: 1.0\n",
            "Val accuracy: 0.9806\n"
          ]
        },
        {
          "output_type": "stream",
          "name": "stderr",
          "text": [
            "100%|██████████| 1562/1562 [00:03<00:00, 392.11it/s]\n"
          ]
        },
        {
          "output_type": "stream",
          "name": "stdout",
          "text": [
            "Epoch 24\n",
            "Train accuracy: 1.0\n",
            "Val accuracy: 0.9804\n"
          ]
        }
      ]
    },
    {
      "cell_type": "markdown",
      "metadata": {
        "id": "0mnlj36GOGBT"
      },
      "source": [
        "After 25 Epochs"
      ]
    },
    {
      "cell_type": "code",
      "metadata": {
        "colab": {
          "base_uri": "https://localhost:8080/",
          "height": 316
        },
        "id": "E5Gydl5-OJnN",
        "outputId": "e2449d51-d72e-44ab-c07c-c917fc54706a"
      },
      "source": [
        "print(\"Epoch\",24)\n",
        "print(\"Train accuracy:\",train_log[-1])\n",
        "print(\"Val accuracy:\",val_log[-1])\n",
        "plt.plot(train_log,label='train accuracy')\n",
        "plt.plot(val_log,label='val accuracy')\n",
        "plt.legend(loc='best')\n",
        "plt.grid()\n",
        "plt.show()"
      ],
      "execution_count": 25,
      "outputs": [
        {
          "output_type": "stream",
          "name": "stdout",
          "text": [
            "Epoch 24\n",
            "Train accuracy: 1.0\n",
            "Val accuracy: 0.9804\n"
          ]
        },
        {
          "output_type": "display_data",
          "data": {
            "image/png": "[encoded data removed]",
            "text/plain": [
              "<Figure size 432x288 with 1 Axes>"
            ]
          },
          "metadata": {
            "needs_background": "light"
          }
        }
      ]
    },
    {
      "cell_type": "markdown",
      "metadata": {
        "id": "OQHrCyvprrWZ"
      },
      "source": [
        "Ploting 10 predictions from validation set"
      ]
    },
    {
      "cell_type": "code",
      "metadata": {
        "colab": {
          "base_uri": "https://localhost:8080/",
          "height": 476
        },
        "id": "X4ZYcvWXqufN",
        "outputId": "8f81b093-0fe0-4992-82d9-91c3dc11bccd"
      },
      "source": [
        "prediction = model.predict(X_val)\n",
        "plot_predictions(X_val, y_val, prediction, n_plots=10, figsize=[20,20])\n"
      ],
      "execution_count": 31,
      "outputs": [
        {
          "output_type": "display_data",
          "data": {
            "image/png": "[encoded data removed]",
            "text/plain": [
              "<Figure size 1440x1440 with 10 Axes>"
            ]
          },
          "metadata": {
            "needs_background": "light"
          }
        }
      ]
    }
  ]
}