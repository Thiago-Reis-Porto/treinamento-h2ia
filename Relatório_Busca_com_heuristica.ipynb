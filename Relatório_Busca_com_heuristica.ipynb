{
  "nbformat": 4,
  "nbformat_minor": 0,
  "metadata": {
    "colab": {
      "name": "Relatório - Busca com heuristica.ipynb",
      "provenance": [],
      "collapsed_sections": [],
      "include_colab_link": true
    },
    "kernelspec": {
      "name": "python3",
      "display_name": "Python 3"
    },
    "language_info": {
      "name": "python"
    }
  },
  "cells": [
    {
      "cell_type": "markdown",
      "metadata": {
        "id": "view-in-github",
        "colab_type": "text"
      },
      "source": [
        "<a href=\"https://colab.research.google.com/github/Thiago-Reis-Porto/treinamento-h2ia/blob/main/Relat%C3%B3rio_Busca_com_heuristica.ipynb\" target=\"_parent\"><img src=\"https://colab.research.google.com/assets/colab-badge.svg\" alt=\"Open In Colab\"/></a>"
      ]
    },
    {
      "cell_type": "markdown",
      "metadata": {
        "id": "21uUELma0562"
      },
      "source": [
        "# O Problema\n",
        "Sliding Puzzle - Bloco Deslizante"
      ]
    },
    {
      "cell_type": "code",
      "metadata": {
        "colab": {
          "base_uri": "https://localhost:8080/",
          "height": 218
        },
        "id": "duRbJW3rz01L",
        "outputId": "e1049773-9cf4-4b39-e026-e220c566311f"
      },
      "source": [
        "# !wget -qq https://miro.medium.com/max/700/1*W7jg4GmEjGBypd9WPktasQ.gif\n",
        "from IPython.display import Image\n",
        "Image(url='https://miro.medium.com/max/700/1*W7jg4GmEjGBypd9WPktasQ.gif',width=200)"
      ],
      "execution_count": null,
      "outputs": [
        {
          "output_type": "execute_result",
          "data": {
            "text/html": [
              "<img src=\"https://miro.medium.com/max/700/1*W7jg4GmEjGBypd9WPktasQ.gif\" width=\"200\"/>"
            ],
            "text/plain": [
              "<IPython.core.display.Image object>"
            ]
          },
          "metadata": {
            "tags": []
          },
          "execution_count": 5
        }
      ]
    },
    {
      "cell_type": "markdown",
      "metadata": {
        "id": "f6TPxqB-1Cwx"
      },
      "source": [
        "\n",
        "# Resolver o quebra-cabeças usando Buscas"
      ]
    },
    {
      "cell_type": "code",
      "metadata": {
        "id": "n57XGT6a9ekr"
      },
      "source": [
        "import numpy as np\n",
        "\n",
        "solution = np.array([[1,2,3],[4,5,6],[7,8,0]])\n",
        "\n",
        "#---------------------------------------------------------------------------------------------------------\n",
        "#--Classe do quebra-cabeça--------------------------------------------------------------------------------\n",
        "#---------------------------------------------------------------------------------------------------------\n",
        "\n",
        "class Puzzle:\n",
        "  \n",
        "  #Construtor recebe o pai e o estado(ou gera um estado aleatorio)\n",
        "  def __init__(self, parent, state = np.random.choice([i for i in range(9)] , size=(3, 3), replace=False)):\n",
        "    self.state = state #array com o estado\n",
        "    self.blankPos = list(map(lambda x: x[0],(np.where(self.state == 0))) ) #posição do espaço\n",
        "    self.isSolution = np.array_equal(solution,self.state) \n",
        "    self.g = self.__blank_Cost()\n",
        "    self.h = self.__H_Cost()\n",
        "    self.f = self.g + self.h\n",
        "    self.visited = False\n",
        "    self.children = [] #proximos movimentos possiveis\n",
        "    self.parent = parent\n",
        "\n",
        "#---------------------------------------------------------------------------------------------------------\n",
        "#-Movimentos - -------------------------------------------------------------------------------------------\n",
        "#---------------------------------------------------------------------------------------------------------\n",
        "  #Move espaço para esquerda se possivel\n",
        "  def __moveL(self):\n",
        "    blankPos = self.blankPos\n",
        "    if blankPos[1] == 0:\n",
        "      return np.array([])\n",
        "    newState = self.state.copy()\n",
        "    newState[blankPos[0]][blankPos[1]] = newState[blankPos[0]][blankPos[1]-1]\n",
        "    newState[blankPos[0]][blankPos[1]-1] = 0\n",
        "    return newState\n",
        "  \n",
        "  #Move espaço para direita se possivel\n",
        "  def __moveR(self):\n",
        "    blankPos = self.blankPos\n",
        "    if blankPos[1] == 2:\n",
        "      return np.array([])\n",
        "    newState = self.state.copy()    \n",
        "    newState[blankPos[0]][blankPos[1]] = newState[blankPos[0]][blankPos[1]+1]\n",
        "    newState[blankPos[0]][blankPos[1]+1] = 0\n",
        "    return newState\n",
        "  \n",
        "  #Move espaço para cima se possivel\n",
        "  def __moveU(self):\n",
        "    blankPos = self.blankPos\n",
        "    if blankPos[0] == 0:\n",
        "      return np.array([])\n",
        "    newState = self.state.copy()\n",
        "    newState[blankPos[0]][blankPos[1]] = newState[blankPos[0]-1][blankPos[1]]\n",
        "    newState[blankPos[0]-1][blankPos[1]] = 0\n",
        "    return newState\n",
        "  #Move espaço para baixo se possivel\n",
        "  def __moveD(self):\n",
        "    blankPos = self.blankPos\n",
        "    if blankPos[0] == 2:\n",
        "      return np.array([])\n",
        "    newState = self.state.copy()\n",
        "    newState[blankPos[0]][blankPos[1]] = newState[blankPos[0]+1][blankPos[1]]\n",
        "    newState[blankPos[0]+1][blankPos[1]] = 0\n",
        "    return newState\n",
        "\n",
        "#---------------------------------------------------------------------------------------------------------\n",
        "#-----------Gera os proximos movimentos possiveis a partir do estado atual--------------------------------\n",
        "#---------------------------------------------------------------------------------------------------------\n",
        "  def genChildren(self):\n",
        "    moves = [self.__moveR, self.__moveL, self.__moveU, self.__moveD]\n",
        "    for i in moves:\n",
        "      newMove = i()\n",
        "      if newMove.any() and self.parent == None:\n",
        "        self.children.append(Puzzle(self, newMove))\n",
        "      \n",
        "      elif newMove.any() and not np.array_equal(newMove, self.parent.state): \n",
        "        self.children.append(Puzzle(self, newMove))\n",
        "#---------------------------------------------------------------------------------------------------------\n",
        "#-------------------------------Metodos para heuristicas--------------------------------------------------\n",
        "#---------------------------------------------------------------------------------------------------------\n",
        "  def __H_Cost(self):\n",
        "    cost = 0;\n",
        "    for i in range(3):\n",
        "      for j in range(3):\n",
        "        if i==j==2:\n",
        "          return cost\n",
        "        if self.state[i][j] != solution[i][j]:\n",
        "          cost+=1\n",
        "        \n",
        "  def __blank_Cost(self):  \n",
        "      return 2 - self.blankPos[0] + 2 - self.blankPos[1]\n"
      ],
      "execution_count": 29,
      "outputs": []
    },
    {
      "cell_type": "markdown",
      "metadata": {
        "id": "o6ZClGCC1RxB"
      },
      "source": [
        "## Busca A*"
      ]
    },
    {
      "cell_type": "code",
      "metadata": {
        "id": "cmJfg8CF0Jwc"
      },
      "source": [
        " \n",
        "def aStar(puzzle):\n",
        "  def isIn(state, nodes):\n",
        "    for i in nodes:\n",
        "      if np.array_equal(state, i.state):\n",
        "        return True\n",
        "    return False\n",
        "  \n",
        "  moves = 0\n",
        "  if puzzle.isSolution:\n",
        "    print(\"Movimentos =\", moves)\n",
        "    return puzzle\n",
        "  \n",
        "  frontier = { 'open':[], 'closed':[]}\n",
        "  frontier['open'].append(puzzle)\n",
        "  \n",
        "  while True:\n",
        "    \n",
        "    puzzle.genChildren()\n",
        "    \n",
        "    frontier['open'].remove(puzzle)\n",
        "    frontier['closed'].append(puzzle)\n",
        "  \n",
        "    \n",
        "    for i in puzzle.children:\n",
        "      if not isIn(i.state, frontier['open']) and not isIn(i.state, frontier['closed']):\n",
        "        frontier['open'].append(i)\n",
        "    \n",
        "    puzzle = frontier['open'][0]\n",
        "    for i in frontier['open']:\n",
        "      if puzzle.h > i.h:\n",
        "        puzzle = i\n",
        "\n",
        "    #[ x for x in frontier['open'] if not (x==i).all()]\n",
        "    moves+=1\n",
        "    if puzzle.isSolution:\n",
        "      print(\"Movimentos =\", moves)\n",
        "      return puzzle\n",
        "    \n"
      ],
      "execution_count": 35,
      "outputs": []
    },
    {
      "cell_type": "code",
      "metadata": {
        "colab": {
          "base_uri": "https://localhost:8080/"
        },
        "id": "8RFbDlFILDz4",
        "outputId": "e7009a38-8e44-4500-9f53-2dbbaf9e3b3e"
      },
      "source": [
        "p = Puzzle(None)\n",
        "print(p.state)\n",
        "s = aStar(p)\n"
      ],
      "execution_count": 36,
      "outputs": [
        {
          "output_type": "stream",
          "text": [
            "[[7 5 4]\n",
            " [2 0 3]\n",
            " [6 1 8]]\n",
            "Movimentos = 469\n"
          ],
          "name": "stdout"
        }
      ]
    },
    {
      "cell_type": "markdown",
      "metadata": {
        "id": "KiZbfk6YIFXM"
      },
      "source": [
        "## Discusta sobre o desempenho do método em questões de:\n",
        "\n",
        "\n",
        "1.   Consumo de memória\n",
        "2.   Processamento\n",
        "\n"
      ]
    },
    {
      "cell_type": "markdown",
      "metadata": {
        "id": "2UWHMwjVHnTf"
      },
      "source": [
        "**Memoria**: Não possui um custo tão alto, mas é nescessario guardar os estados(ou nós se for o caso) visitados, é mantida uma lista \"aberta\" com estados que devem ser expandidos, e a lista \"fechada\" dos que já foram expandidos.\n",
        "\n",
        "\n",
        "**Processamento** : É um algoritimo bem eficiente, teve um desempenho melhor que dfs e bfs em geral, mas neste problema a minha implementação ainda demora bastante se o estado inicial prescisar de muitos movimentos, corre-se o risco do algoritimo se distanciar da solução.\n"
      ]
    }
  ]
}