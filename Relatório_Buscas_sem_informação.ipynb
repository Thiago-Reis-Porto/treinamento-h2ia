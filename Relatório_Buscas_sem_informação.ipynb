{
  "nbformat": 4,
  "nbformat_minor": 0,
  "metadata": {
    "colab": {
      "name": "Relatório - Buscas sem informação.ipynb",
      "provenance": [],
      "collapsed_sections": [],
      "include_colab_link": true
    },
    "kernelspec": {
      "name": "python3",
      "display_name": "Python 3"
    },
    "language_info": {
      "name": "python"
    }
  },
  "cells": [
    {
      "cell_type": "markdown",
      "metadata": {
        "id": "view-in-github",
        "colab_type": "text"
      },
      "source": [
        "<a href=\"https://colab.research.google.com/github/Thiago-Reis-Porto/treinamento-h2ia/blob/main/Relat%C3%B3rio_Buscas_sem_informa%C3%A7%C3%A3o.ipynb\" target=\"_parent\"><img src=\"https://colab.research.google.com/assets/colab-badge.svg\" alt=\"Open In Colab\"/></a>"
      ]
    },
    {
      "cell_type": "markdown",
      "metadata": {
        "id": "21uUELma0562"
      },
      "source": [
        "# O Problema\n",
        "Sliding Puzzle - Bloco Deslizante"
      ]
    },
    {
      "cell_type": "code",
      "metadata": {
        "colab": {
          "base_uri": "https://localhost:8080/",
          "height": 218
        },
        "id": "duRbJW3rz01L",
        "outputId": "e1049773-9cf4-4b39-e026-e220c566311f"
      },
      "source": [
        "# !wget -qq https://miro.medium.com/max/700/1*W7jg4GmEjGBypd9WPktasQ.gif\n",
        "from IPython.display import Image\n",
        "Image(url='https://miro.medium.com/max/700/1*W7jg4GmEjGBypd9WPktasQ.gif',width=200)"
      ],
      "execution_count": null,
      "outputs": [
        {
          "output_type": "execute_result",
          "data": {
            "text/html": [
              "<img src=\"https://miro.medium.com/max/700/1*W7jg4GmEjGBypd9WPktasQ.gif\" width=\"200\"/>"
            ],
            "text/plain": [
              "<IPython.core.display.Image object>"
            ]
          },
          "metadata": {
            "tags": []
          },
          "execution_count": 5
        }
      ]
    },
    {
      "cell_type": "markdown",
      "metadata": {
        "id": "f6TPxqB-1Cwx"
      },
      "source": [
        "\n",
        "# Resolver o quebra-cabeças usando Buscas"
      ]
    },
    {
      "cell_type": "code",
      "metadata": {
        "id": "n57XGT6a9ekr"
      },
      "source": [
        "import numpy as np\n",
        "\n",
        "solution = np.array([[1,2,3],[4,5,6],[7,8,0]])\n",
        "\n",
        "#---------------------------------------------------------------------------------------------------------\n",
        "#--Classe do quebra-cabeça--------------------------------------------------------------------------------\n",
        "#---------------------------------------------------------------------------------------------------------\n",
        "\n",
        "class Puzzle:\n",
        "  \n",
        "  #Construtor recebe o pai e o estado(ou gera um estado aleatorio)\n",
        "  def __init__(self, parent, state = np.random.choice([i for i in range(9)] , size=(3, 3), replace=False)):\n",
        "    self.state = state #array com o estado\n",
        "    self.blankPos = list(map(lambda x: x[0],(np.where(self.state == 0))) ) #posição do espaço\n",
        "    self.isSolution = np.array_equal(solution,self.state) \n",
        "    self.visited = False\n",
        "    self.children = [] #proximos movimentos possiveis\n",
        "    self.parent = parent\n",
        "\n",
        "#---------------------------------------------------------------------------------------------------------\n",
        "#-Movimentos - -------------------------------------------------------------------------------------------\n",
        "#---------------------------------------------------------------------------------------------------------\n",
        "  #Move espaço para esquerda se possivel\n",
        "  def __moveL(self):\n",
        "    blankPos = self.blankPos\n",
        "    if blankPos[1] == 0:\n",
        "      return np.array([])\n",
        "    newState = self.state.copy()\n",
        "    newState[blankPos[0]][blankPos[1]] = newState[blankPos[0]][blankPos[1]-1]\n",
        "    newState[blankPos[0]][blankPos[1]-1] = 0\n",
        "    return newState\n",
        "  \n",
        "  #Move espaço para direita se possivel\n",
        "  def __moveR(self):\n",
        "    blankPos = self.blankPos\n",
        "    if blankPos[1] == 2:\n",
        "      return np.array([])\n",
        "    newState = self.state.copy()    \n",
        "    newState[blankPos[0]][blankPos[1]] = newState[blankPos[0]][blankPos[1]+1]\n",
        "    newState[blankPos[0]][blankPos[1]+1] = 0\n",
        "    return newState\n",
        "  \n",
        "  #Move espaço para cima se possivel\n",
        "  def __moveU(self):\n",
        "    blankPos = self.blankPos\n",
        "    if blankPos[0] == 0:\n",
        "      return np.array([])\n",
        "    newState = self.state.copy()\n",
        "    newState[blankPos[0]][blankPos[1]] = newState[blankPos[0]-1][blankPos[1]]\n",
        "    newState[blankPos[0]-1][blankPos[1]] = 0\n",
        "    return newState\n",
        "  #Move espaço para baixo se possivel\n",
        "  def __moveD(self):\n",
        "    blankPos = self.blankPos\n",
        "    if blankPos[0] == 2:\n",
        "      return np.array([])\n",
        "    newState = self.state.copy()\n",
        "    newState[blankPos[0]][blankPos[1]] = newState[blankPos[0]+1][blankPos[1]]\n",
        "    newState[blankPos[0]+1][blankPos[1]] = 0\n",
        "    return newState\n",
        "\n",
        "#---------------------------------------------------------------------------------------------------------\n",
        "#-----------Gera os proximos movimentos possiveis a partir do estado atual--------------------------------\n",
        "#---------------------------------------------------------------------------------------------------------\n",
        "  def genChildren(self):\n",
        "    moves = [self.__moveR, self.__moveL, self.__moveU, self.__moveD]\n",
        "    for i in moves:\n",
        "      newMove = i()\n",
        "      if newMove.any() and self.parent == None:\n",
        "        self.children.append(Puzzle(self, newMove))\n",
        "      \n",
        "      elif newMove.any() and not np.array_equal(newMove, self.parent.state): \n",
        "        self.children.append(Puzzle(self, newMove))\n",
        "\n"
      ],
      "execution_count": 3,
      "outputs": []
    },
    {
      "cell_type": "markdown",
      "metadata": {
        "id": "o6ZClGCC1RxB"
      },
      "source": [
        "## Busca em largura"
      ]
    },
    {
      "cell_type": "code",
      "metadata": {
        "id": "cmJfg8CF0Jwc"
      },
      "source": [
        "from collections import deque\n",
        "\n",
        "def bfs(puzzle):\n",
        "  if puzzle.isSolution:\n",
        "    return puzzle\n",
        "  \n",
        "  q = deque()\n",
        "  q.append(puzzle)\n",
        "\n",
        "  while (True):\n",
        "    q[0].genChildren()\n",
        "    for i in q[0].children:\n",
        "      if i.isSolution:\n",
        "        return i\n",
        "      q.append(i)\n",
        "    q.popleft()\n"
      ],
      "execution_count": 22,
      "outputs": []
    },
    {
      "cell_type": "code",
      "metadata": {
        "colab": {
          "base_uri": "https://localhost:8080/"
        },
        "id": "CKdYd2sHx6I7",
        "outputId": "43208845-b336-4ef8-aaab-0824c0f508b3"
      },
      "source": [
        "b =np.array([[1, 3, 4],[8, 7, 2],[6, 0, 5]])\n",
        "p = Puzzle(None,state=b)\n",
        "s = bfs(p)\n",
        "pr = s\n",
        "#-----printa solução------------\n",
        "while (pr.parent):\n",
        "  print(str(pr.state))\n",
        "  print(\"\\n\")\n",
        "  pr=pr.parent\n",
        "print(p.state)"
      ],
      "execution_count": 23,
      "outputs": [
        {
          "output_type": "stream",
          "text": [
            "[[1 2 3]\n",
            " [4 5 6]\n",
            " [7 8 0]]\n",
            "\n",
            "\n",
            "[[1 2 3]\n",
            " [4 5 0]\n",
            " [7 8 6]]\n",
            "\n",
            "\n",
            "[[1 2 3]\n",
            " [4 0 5]\n",
            " [7 8 6]]\n",
            "\n",
            "\n",
            "[[1 2 3]\n",
            " [0 4 5]\n",
            " [7 8 6]]\n",
            "\n",
            "\n",
            "[[1 2 3]\n",
            " [7 4 5]\n",
            " [0 8 6]]\n",
            "\n",
            "\n",
            "[[1 2 3]\n",
            " [7 4 5]\n",
            " [8 0 6]]\n",
            "\n",
            "\n",
            "[[1 2 3]\n",
            " [7 4 5]\n",
            " [8 6 0]]\n",
            "\n",
            "\n",
            "[[1 2 3]\n",
            " [7 4 0]\n",
            " [8 6 5]]\n",
            "\n",
            "\n",
            "[[1 2 3]\n",
            " [7 0 4]\n",
            " [8 6 5]]\n",
            "\n",
            "\n",
            "[[1 0 3]\n",
            " [7 2 4]\n",
            " [8 6 5]]\n",
            "\n",
            "\n",
            "[[1 3 0]\n",
            " [7 2 4]\n",
            " [8 6 5]]\n",
            "\n",
            "\n",
            "[[1 3 4]\n",
            " [7 2 0]\n",
            " [8 6 5]]\n",
            "\n",
            "\n",
            "[[1 3 4]\n",
            " [7 0 2]\n",
            " [8 6 5]]\n",
            "\n",
            "\n",
            "[[1 3 4]\n",
            " [0 7 2]\n",
            " [8 6 5]]\n",
            "\n",
            "\n",
            "[[1 3 4]\n",
            " [8 7 2]\n",
            " [0 6 5]]\n",
            "\n",
            "\n",
            "[[1 3 4]\n",
            " [8 7 2]\n",
            " [6 0 5]]\n"
          ],
          "name": "stdout"
        }
      ]
    },
    {
      "cell_type": "markdown",
      "metadata": {
        "id": "zCCoey-J1U5t"
      },
      "source": [
        "## Busca em Profundidade"
      ]
    },
    {
      "cell_type": "code",
      "metadata": {
        "id": "fHjk_5T5es_2"
      },
      "source": [
        "def dfs(puzzle):\n",
        "  def isVisited(ar, vst):\n",
        "    for i in vst:\n",
        "      if np.array_equal(ar, i):\n",
        "        return True\n",
        "    return False\n",
        "\n",
        "  if puzzle.isSolution:\n",
        "    return puzzle\n",
        "  \n",
        "  q = deque()\n",
        "  q.append(puzzle)\n",
        "  visited = []\n",
        "\n",
        "  while (True):\n",
        "    vstd = isVisited(q[-1].state, visited)\n",
        "    \n",
        "    if vstd and not q[-1].children:\n",
        "      q.pop()\n",
        "      q[-1].children.pop(0)\n",
        "      continue\n",
        "    \n",
        "    if not vstd:\n",
        "      visited.append(q[-1].state)\n",
        "      q[-1].genChildren() \n",
        "    \n",
        "    if q[-1].children[0].isSolution:\n",
        "      return q[-1].children[0]\n",
        "    q.append(q[-1].children[0])\n"
      ],
      "execution_count": 17,
      "outputs": []
    },
    {
      "cell_type": "code",
      "metadata": {
        "id": "1otVBYX3oc5w",
        "colab": {
          "base_uri": "https://localhost:8080/"
        },
        "outputId": "8c308f0b-c8a5-42e2-d8bf-53fdccff9c82"
      },
      "source": [
        "b = np.array([[1, 2, 3],[4, 5, 6],[0, 7, 8]])\n",
        "p = Puzzle(None,b)\n",
        "pr = dfs(p)\n",
        "pr = s\n",
        "#-----printa solução------------\n",
        "while (pr.parent):\n",
        "  print(str(pr.state))\n",
        "  print(\"\\n\")\n",
        "  pr=pr.parent\n",
        "print(p.state)"
      ],
      "execution_count": 32,
      "outputs": [
        {
          "output_type": "stream",
          "text": [
            "[[1 2 3]\n",
            " [4 5 6]\n",
            " [7 8 0]]\n",
            "\n",
            "\n",
            "[[1 2 3]\n",
            " [4 5 6]\n",
            " [7 0 8]]\n",
            "\n",
            "\n",
            "[[1 2 3]\n",
            " [4 5 6]\n",
            " [0 7 8]]\n"
          ],
          "name": "stdout"
        }
      ]
    },
    {
      "cell_type": "markdown",
      "metadata": {
        "id": "rXU5HkCd1ZPu"
      },
      "source": [
        "## Discusta sobre o desempenho dos métodos em questões de:\n",
        "\n",
        "\n",
        "1.   Consumo de memória\n",
        "2.   Processamento\n",
        "\n"
      ]
    },
    {
      "cell_type": "markdown",
      "metadata": {
        "id": "3TcA-lIhzBK8"
      },
      "source": [
        "1.\n",
        "\n",
        "**BFS**: Possui maior custo de memoria a fila, dos nós que deve ser mantida para processar em largura, cresce muito rapido\n",
        "\n",
        "**DFS**:O custo é menor pois só prescisamos manter a pilha dos nós do caminho que está sendo processado.\n",
        "\n",
        "2.\n",
        "\n",
        "**BFS**:É completo, consegue chegar a solução sem otimizações além de achar a solução mais \"rasa\", porem pode demorar muito, e tem a possibilidade estourar a memória.\n",
        "\n",
        "**DFS**: Pode chegar rapidamente a solução quando está estiver em algum nivel mais profundo do que a busca BFS, mas não tem garantia que seja a mais \"rasa\", e sem alguma detecção de loop não é completo, também em casos como este em que a arvore de soluções pode ser infinita pode ser interessante limitar a profundidade\n",
        "\n",
        "**Me parace que nenhum dos algoritmos é ideal para resolver este problema.**"
      ]
    }
  ]
}